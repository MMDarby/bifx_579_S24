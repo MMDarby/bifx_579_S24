{
 "cells": [
  {
   "cell_type": "markdown",
   "metadata": {},
   "source": [
    "#### Title: Protein Function Predictions workflow\n",
    "#### Author: Gerard Duncan\n",
    "#### Purpose: This is a machine learning script to predict protein function.\n",
    "#### Data Source: https://ftp.ebi.ac.uk/pub/databases/GO/goa/HUMAN/\n",
    "#### \n",
    "#### Last modified: March 26, 2024\n",
    "##############################################################\n"
   ]
  },
  {
   "cell_type": "code",
   "execution_count": 52,
   "metadata": {},
   "outputs": [
    {
     "name": "stdout",
     "output_type": "stream",
     "text": [
      "Requirement already satisfied: goatools in /Users/clayoneil/miniconda3/lib/python3.11/site-packages (1.3.11)\n",
      "Requirement already satisfied: pandas in /Users/clayoneil/miniconda3/lib/python3.11/site-packages (from goatools) (2.2.0)\n",
      "Requirement already satisfied: numpy in /Users/clayoneil/miniconda3/lib/python3.11/site-packages (from goatools) (1.26.3)\n",
      "Requirement already satisfied: scipy in /Users/clayoneil/miniconda3/lib/python3.11/site-packages (from goatools) (1.12.0)\n",
      "Requirement already satisfied: xlsxwriter in /Users/clayoneil/miniconda3/lib/python3.11/site-packages (from goatools) (3.2.0)\n",
      "Requirement already satisfied: statsmodels in /Users/clayoneil/miniconda3/lib/python3.11/site-packages (from goatools) (0.14.1)\n",
      "Requirement already satisfied: openpyxl in /Users/clayoneil/miniconda3/lib/python3.11/site-packages (from goatools) (3.1.2)\n",
      "Requirement already satisfied: docopt in /Users/clayoneil/miniconda3/lib/python3.11/site-packages (from goatools) (0.6.2)\n",
      "Requirement already satisfied: pydot in /Users/clayoneil/miniconda3/lib/python3.11/site-packages (from goatools) (2.0.0)\n",
      "Requirement already satisfied: requests in /Users/clayoneil/miniconda3/lib/python3.11/site-packages (from goatools) (2.31.0)\n",
      "Requirement already satisfied: rich in /Users/clayoneil/miniconda3/lib/python3.11/site-packages (from goatools) (13.7.0)\n",
      "Requirement already satisfied: et-xmlfile in /Users/clayoneil/miniconda3/lib/python3.11/site-packages (from openpyxl->goatools) (1.1.0)\n",
      "Requirement already satisfied: python-dateutil>=2.8.2 in /Users/clayoneil/miniconda3/lib/python3.11/site-packages (from pandas->goatools) (2.9.0)\n",
      "Requirement already satisfied: pytz>=2020.1 in /Users/clayoneil/miniconda3/lib/python3.11/site-packages (from pandas->goatools) (2024.1)\n",
      "Requirement already satisfied: tzdata>=2022.7 in /Users/clayoneil/miniconda3/lib/python3.11/site-packages (from pandas->goatools) (2023.4)\n",
      "Requirement already satisfied: pyparsing>=3 in /Users/clayoneil/miniconda3/lib/python3.11/site-packages (from pydot->goatools) (3.1.1)\n",
      "Requirement already satisfied: charset-normalizer<4,>=2 in /Users/clayoneil/miniconda3/lib/python3.11/site-packages (from requests->goatools) (2.0.4)\n",
      "Requirement already satisfied: idna<4,>=2.5 in /Users/clayoneil/miniconda3/lib/python3.11/site-packages (from requests->goatools) (3.4)\n",
      "Requirement already satisfied: urllib3<3,>=1.21.1 in /Users/clayoneil/miniconda3/lib/python3.11/site-packages (from requests->goatools) (1.26.18)\n",
      "Requirement already satisfied: certifi>=2017.4.17 in /Users/clayoneil/miniconda3/lib/python3.11/site-packages (from requests->goatools) (2024.2.2)\n",
      "Requirement already satisfied: markdown-it-py>=2.2.0 in /Users/clayoneil/miniconda3/lib/python3.11/site-packages (from rich->goatools) (3.0.0)\n",
      "Requirement already satisfied: pygments<3.0.0,>=2.13.0 in /Users/clayoneil/miniconda3/lib/python3.11/site-packages (from rich->goatools) (2.17.2)\n",
      "Requirement already satisfied: patsy>=0.5.4 in /Users/clayoneil/miniconda3/lib/python3.11/site-packages (from statsmodels->goatools) (0.5.6)\n",
      "Requirement already satisfied: packaging>=21.3 in /Users/clayoneil/miniconda3/lib/python3.11/site-packages (from statsmodels->goatools) (23.1)\n",
      "Requirement already satisfied: mdurl~=0.1 in /Users/clayoneil/miniconda3/lib/python3.11/site-packages (from markdown-it-py>=2.2.0->rich->goatools) (0.1.2)\n",
      "Requirement already satisfied: six in /Users/clayoneil/miniconda3/lib/python3.11/site-packages (from patsy>=0.5.4->statsmodels->goatools) (1.16.0)\n"
     ]
    }
   ],
   "source": [
    "!pip install goatools"
   ]
  },
  {
   "cell_type": "code",
   "execution_count": null,
   "metadata": {},
   "outputs": [],
   "source": [
    "# install tensorboard\n",
    "!pip install tensorboard"
   ]
  },
  {
   "cell_type": "code",
   "execution_count": 272,
   "metadata": {},
   "outputs": [],
   "source": [
    "# imports\n",
    "import numpy as np\n",
    "import tensorflow as tf\n",
    "import datetime\n",
    "import tensorflow\n",
    "import pandas as pd\n",
    "from sklearn.model_selection import train_test_split\n"
   ]
  },
  {
   "cell_type": "code",
   "execution_count": 273,
   "metadata": {},
   "outputs": [],
   "source": [
    "# Load the data CSV file as a dataframe\n",
    "df = pd.read_csv('data/seqSet.csv',header=None)\n",
    "df.columns = ['Protein', 'Sequence']\n",
    "\n",
    "# Load the metadata CSV file as a dataframe\n",
    "meta_df = pd.read_csv('data/humanProteinGO.csv',index_col='GO_Annatiation')\n"
   ]
  },
  {
   "cell_type": "markdown",
   "metadata": {},
   "source": [
    "This code is designed to process and prepare protein sequence data and their associated pathways for machine learning tasks. It begins by importing necessary libraries, then loads two CSV files - one containing protein sequences ('seqSet.csv') and the other containing metadata for human proteins and their Gene Ontology (GO) annotations ('humanProteinGO.csv'). The data is split into training and testing sets, with 5% of the data being reserved for testing. \n"
   ]
  },
  {
   "cell_type": "code",
   "execution_count": 274,
   "metadata": {},
   "outputs": [
    {
     "data": {
      "text/html": [
       "<div>\n",
       "<style scoped>\n",
       "    .dataframe tbody tr th:only-of-type {\n",
       "        vertical-align: middle;\n",
       "    }\n",
       "\n",
       "    .dataframe tbody tr th {\n",
       "        vertical-align: top;\n",
       "    }\n",
       "\n",
       "    .dataframe thead th {\n",
       "        text-align: right;\n",
       "    }\n",
       "</style>\n",
       "<table border=\"1\" class=\"dataframe\">\n",
       "  <thead>\n",
       "    <tr style=\"text-align: right;\">\n",
       "      <th></th>\n",
       "      <th>GO:0001933</th>\n",
       "      <th>GO:0003151</th>\n",
       "      <th>GO:0007187</th>\n",
       "      <th>GO:0007611</th>\n",
       "      <th>GO:0008015</th>\n",
       "      <th>GO:0008277</th>\n",
       "      <th>GO:0009408</th>\n",
       "      <th>GO:0030218</th>\n",
       "      <th>GO:0030855</th>\n",
       "      <th>GO:0031018</th>\n",
       "      <th>...</th>\n",
       "      <th>GO:0005887</th>\n",
       "      <th>GO:0005739</th>\n",
       "      <th>GO:0005730</th>\n",
       "      <th>GO:0005576</th>\n",
       "      <th>GO:0005829</th>\n",
       "      <th>GO:0005886</th>\n",
       "      <th>GO:0016021</th>\n",
       "      <th>GO:0005634</th>\n",
       "      <th>GO:0005737</th>\n",
       "      <th>GO:0016020</th>\n",
       "    </tr>\n",
       "    <tr>\n",
       "      <th>GO_Annatiation</th>\n",
       "      <th></th>\n",
       "      <th></th>\n",
       "      <th></th>\n",
       "      <th></th>\n",
       "      <th></th>\n",
       "      <th></th>\n",
       "      <th></th>\n",
       "      <th></th>\n",
       "      <th></th>\n",
       "      <th></th>\n",
       "      <th></th>\n",
       "      <th></th>\n",
       "      <th></th>\n",
       "      <th></th>\n",
       "      <th></th>\n",
       "      <th></th>\n",
       "      <th></th>\n",
       "      <th></th>\n",
       "      <th></th>\n",
       "      <th></th>\n",
       "      <th></th>\n",
       "    </tr>\n",
       "  </thead>\n",
       "  <tbody>\n",
       "    <tr>\n",
       "      <th>Q8TBF5</th>\n",
       "      <td>0</td>\n",
       "      <td>0</td>\n",
       "      <td>0</td>\n",
       "      <td>0</td>\n",
       "      <td>0</td>\n",
       "      <td>0</td>\n",
       "      <td>0</td>\n",
       "      <td>0</td>\n",
       "      <td>0</td>\n",
       "      <td>0</td>\n",
       "      <td>...</td>\n",
       "      <td>0</td>\n",
       "      <td>0</td>\n",
       "      <td>0</td>\n",
       "      <td>0</td>\n",
       "      <td>0</td>\n",
       "      <td>0</td>\n",
       "      <td>1</td>\n",
       "      <td>0</td>\n",
       "      <td>0</td>\n",
       "      <td>1</td>\n",
       "    </tr>\n",
       "    <tr>\n",
       "      <th>Q8TBF4</th>\n",
       "      <td>0</td>\n",
       "      <td>0</td>\n",
       "      <td>0</td>\n",
       "      <td>0</td>\n",
       "      <td>0</td>\n",
       "      <td>0</td>\n",
       "      <td>0</td>\n",
       "      <td>0</td>\n",
       "      <td>0</td>\n",
       "      <td>0</td>\n",
       "      <td>...</td>\n",
       "      <td>0</td>\n",
       "      <td>0</td>\n",
       "      <td>0</td>\n",
       "      <td>0</td>\n",
       "      <td>0</td>\n",
       "      <td>0</td>\n",
       "      <td>0</td>\n",
       "      <td>1</td>\n",
       "      <td>0</td>\n",
       "      <td>0</td>\n",
       "    </tr>\n",
       "    <tr>\n",
       "      <th>Q5MIZ7</th>\n",
       "      <td>0</td>\n",
       "      <td>0</td>\n",
       "      <td>0</td>\n",
       "      <td>0</td>\n",
       "      <td>0</td>\n",
       "      <td>0</td>\n",
       "      <td>0</td>\n",
       "      <td>0</td>\n",
       "      <td>0</td>\n",
       "      <td>0</td>\n",
       "      <td>...</td>\n",
       "      <td>0</td>\n",
       "      <td>0</td>\n",
       "      <td>1</td>\n",
       "      <td>0</td>\n",
       "      <td>0</td>\n",
       "      <td>0</td>\n",
       "      <td>0</td>\n",
       "      <td>1</td>\n",
       "      <td>1</td>\n",
       "      <td>0</td>\n",
       "    </tr>\n",
       "    <tr>\n",
       "      <th>P30613</th>\n",
       "      <td>0</td>\n",
       "      <td>0</td>\n",
       "      <td>0</td>\n",
       "      <td>0</td>\n",
       "      <td>0</td>\n",
       "      <td>0</td>\n",
       "      <td>1</td>\n",
       "      <td>0</td>\n",
       "      <td>0</td>\n",
       "      <td>1</td>\n",
       "      <td>...</td>\n",
       "      <td>0</td>\n",
       "      <td>0</td>\n",
       "      <td>0</td>\n",
       "      <td>0</td>\n",
       "      <td>1</td>\n",
       "      <td>0</td>\n",
       "      <td>0</td>\n",
       "      <td>0</td>\n",
       "      <td>0</td>\n",
       "      <td>0</td>\n",
       "    </tr>\n",
       "    <tr>\n",
       "      <th>Q5H9L4</th>\n",
       "      <td>0</td>\n",
       "      <td>0</td>\n",
       "      <td>0</td>\n",
       "      <td>0</td>\n",
       "      <td>0</td>\n",
       "      <td>0</td>\n",
       "      <td>0</td>\n",
       "      <td>0</td>\n",
       "      <td>0</td>\n",
       "      <td>0</td>\n",
       "      <td>...</td>\n",
       "      <td>0</td>\n",
       "      <td>0</td>\n",
       "      <td>0</td>\n",
       "      <td>0</td>\n",
       "      <td>0</td>\n",
       "      <td>0</td>\n",
       "      <td>0</td>\n",
       "      <td>1</td>\n",
       "      <td>1</td>\n",
       "      <td>0</td>\n",
       "    </tr>\n",
       "  </tbody>\n",
       "</table>\n",
       "<p>5 rows × 1052 columns</p>\n",
       "</div>"
      ],
      "text/plain": [
       "                GO:0001933  GO:0003151  GO:0007187  GO:0007611  GO:0008015  \\\n",
       "GO_Annatiation                                                               \n",
       "Q8TBF5                   0           0           0           0           0   \n",
       "Q8TBF4                   0           0           0           0           0   \n",
       "Q5MIZ7                   0           0           0           0           0   \n",
       "P30613                   0           0           0           0           0   \n",
       "Q5H9L4                   0           0           0           0           0   \n",
       "\n",
       "                GO:0008277  GO:0009408  GO:0030218  GO:0030855  GO:0031018  \\\n",
       "GO_Annatiation                                                               \n",
       "Q8TBF5                   0           0           0           0           0   \n",
       "Q8TBF4                   0           0           0           0           0   \n",
       "Q5MIZ7                   0           0           0           0           0   \n",
       "P30613                   0           1           0           0           1   \n",
       "Q5H9L4                   0           0           0           0           0   \n",
       "\n",
       "                ...  GO:0005887  GO:0005739  GO:0005730  GO:0005576  \\\n",
       "GO_Annatiation  ...                                                   \n",
       "Q8TBF5          ...           0           0           0           0   \n",
       "Q8TBF4          ...           0           0           0           0   \n",
       "Q5MIZ7          ...           0           0           1           0   \n",
       "P30613          ...           0           0           0           0   \n",
       "Q5H9L4          ...           0           0           0           0   \n",
       "\n",
       "                GO:0005829  GO:0005886  GO:0016021  GO:0005634  GO:0005737  \\\n",
       "GO_Annatiation                                                               \n",
       "Q8TBF5                   0           0           1           0           0   \n",
       "Q8TBF4                   0           0           0           1           0   \n",
       "Q5MIZ7                   0           0           0           1           1   \n",
       "P30613                   1           0           0           0           0   \n",
       "Q5H9L4                   0           0           0           1           1   \n",
       "\n",
       "                GO:0016020  \n",
       "GO_Annatiation              \n",
       "Q8TBF5                   1  \n",
       "Q8TBF4                   0  \n",
       "Q5MIZ7                   0  \n",
       "P30613                   0  \n",
       "Q5H9L4                   0  \n",
       "\n",
       "[5 rows x 1052 columns]"
      ]
     },
     "execution_count": 274,
     "metadata": {},
     "output_type": "execute_result"
    }
   ],
   "source": [
    "meta_df.head()"
   ]
  },
  {
   "cell_type": "code",
   "execution_count": 275,
   "metadata": {},
   "outputs": [
    {
     "data": {
      "text/html": [
       "<div>\n",
       "<style scoped>\n",
       "    .dataframe tbody tr th:only-of-type {\n",
       "        vertical-align: middle;\n",
       "    }\n",
       "\n",
       "    .dataframe tbody tr th {\n",
       "        vertical-align: top;\n",
       "    }\n",
       "\n",
       "    .dataframe thead th {\n",
       "        text-align: right;\n",
       "    }\n",
       "</style>\n",
       "<table border=\"1\" class=\"dataframe\">\n",
       "  <thead>\n",
       "    <tr style=\"text-align: right;\">\n",
       "      <th></th>\n",
       "      <th>Protein</th>\n",
       "      <th>Sequence</th>\n",
       "    </tr>\n",
       "  </thead>\n",
       "  <tbody>\n",
       "    <tr>\n",
       "      <th>0</th>\n",
       "      <td>Q8TBF5</td>\n",
       "      <td>MAARVAAVRAAAWLLLGAATGLTRGPAAAFTAARSDAGIRAMCSEI...</td>\n",
       "    </tr>\n",
       "    <tr>\n",
       "      <th>1</th>\n",
       "      <td>Q8TBF4</td>\n",
       "      <td>MSGGLAPSKSTVYVSNLPFSLTNNDLYRIFSKYGKVVKVTIMKDKD...</td>\n",
       "    </tr>\n",
       "    <tr>\n",
       "      <th>2</th>\n",
       "      <td>Q5MIZ7</td>\n",
       "      <td>MSDTRRRVKVYTLNEDRQWDDRGTGHVSSTYVEELKGMSLLVRAES...</td>\n",
       "    </tr>\n",
       "    <tr>\n",
       "      <th>3</th>\n",
       "      <td>Q8TBF2</td>\n",
       "      <td>MSTVDLARVGACILKHAVTGEAVELRSLWREHACVVAGLRRFGCVV...</td>\n",
       "    </tr>\n",
       "    <tr>\n",
       "      <th>4</th>\n",
       "      <td>Q5H9L4</td>\n",
       "      <td>MECPEGQLPISSENDSTPTVSTSEVTSQQEPQILVDRGSETTYESS...</td>\n",
       "    </tr>\n",
       "    <tr>\n",
       "      <th>...</th>\n",
       "      <td>...</td>\n",
       "      <td>...</td>\n",
       "    </tr>\n",
       "    <tr>\n",
       "      <th>12982</th>\n",
       "      <td>Q8WXA9</td>\n",
       "      <td>MTSLMPGAGLLPIPTPNPLTTLGVSLSSLGAIPAAALDPNIATLGE...</td>\n",
       "    </tr>\n",
       "    <tr>\n",
       "      <th>12983</th>\n",
       "      <td>Q8WXA8</td>\n",
       "      <td>MEGGWPARQSALLCLTVSLLLQGRGDAFTINCSGFDQHGVDPAVFQ...</td>\n",
       "    </tr>\n",
       "    <tr>\n",
       "      <th>12984</th>\n",
       "      <td>O75323</td>\n",
       "      <td>MAARVLRARGAAWAGGLLQRAAPCSLLPRLRTWTSSSNRSREDSWL...</td>\n",
       "    </tr>\n",
       "    <tr>\n",
       "      <th>12985</th>\n",
       "      <td>Q8WXA3</td>\n",
       "      <td>MATKDPTAVERANLLNMAKLSIKGLIESALSFGRTLDSDYPPLQQF...</td>\n",
       "    </tr>\n",
       "    <tr>\n",
       "      <th>12986</th>\n",
       "      <td>Q7Z739</td>\n",
       "      <td>MSATSVDQRPKGQGNKVSVQNGSIHQKDAVNDDDFEPYLSSQTNQS...</td>\n",
       "    </tr>\n",
       "  </tbody>\n",
       "</table>\n",
       "<p>12987 rows × 2 columns</p>\n",
       "</div>"
      ],
      "text/plain": [
       "      Protein                                           Sequence\n",
       "0      Q8TBF5  MAARVAAVRAAAWLLLGAATGLTRGPAAAFTAARSDAGIRAMCSEI...\n",
       "1      Q8TBF4  MSGGLAPSKSTVYVSNLPFSLTNNDLYRIFSKYGKVVKVTIMKDKD...\n",
       "2      Q5MIZ7  MSDTRRRVKVYTLNEDRQWDDRGTGHVSSTYVEELKGMSLLVRAES...\n",
       "3      Q8TBF2  MSTVDLARVGACILKHAVTGEAVELRSLWREHACVVAGLRRFGCVV...\n",
       "4      Q5H9L4  MECPEGQLPISSENDSTPTVSTSEVTSQQEPQILVDRGSETTYESS...\n",
       "...       ...                                                ...\n",
       "12982  Q8WXA9  MTSLMPGAGLLPIPTPNPLTTLGVSLSSLGAIPAAALDPNIATLGE...\n",
       "12983  Q8WXA8  MEGGWPARQSALLCLTVSLLLQGRGDAFTINCSGFDQHGVDPAVFQ...\n",
       "12984  O75323  MAARVLRARGAAWAGGLLQRAAPCSLLPRLRTWTSSSNRSREDSWL...\n",
       "12985  Q8WXA3  MATKDPTAVERANLLNMAKLSIKGLIESALSFGRTLDSDYPPLQQF...\n",
       "12986  Q7Z739  MSATSVDQRPKGQGNKVSVQNGSIHQKDAVNDDDFEPYLSSQTNQS...\n",
       "\n",
       "[12987 rows x 2 columns]"
      ]
     },
     "execution_count": 275,
     "metadata": {},
     "output_type": "execute_result"
    }
   ],
   "source": [
    "df"
   ]
  },
  {
   "cell_type": "markdown",
   "metadata": {},
   "source": [
    "# EDA"
   ]
  },
  {
   "cell_type": "markdown",
   "metadata": {},
   "source": [
    "~1000 go annotations. binary yes or no. Let's see the distribution of go protein to go annotation counts"
   ]
  },
  {
   "cell_type": "code",
   "execution_count": 264,
   "metadata": {},
   "outputs": [
    {
     "data": {
      "text/html": [
       "<div>\n",
       "<style scoped>\n",
       "    .dataframe tbody tr th:only-of-type {\n",
       "        vertical-align: middle;\n",
       "    }\n",
       "\n",
       "    .dataframe tbody tr th {\n",
       "        vertical-align: top;\n",
       "    }\n",
       "\n",
       "    .dataframe thead th {\n",
       "        text-align: right;\n",
       "    }\n",
       "</style>\n",
       "<table border=\"1\" class=\"dataframe\">\n",
       "  <thead>\n",
       "    <tr style=\"text-align: right;\">\n",
       "      <th></th>\n",
       "      <th>GO:0001933</th>\n",
       "      <th>GO:0003151</th>\n",
       "      <th>GO:0007187</th>\n",
       "      <th>GO:0007611</th>\n",
       "      <th>GO:0008015</th>\n",
       "      <th>GO:0008277</th>\n",
       "      <th>GO:0009408</th>\n",
       "      <th>GO:0030218</th>\n",
       "      <th>GO:0030855</th>\n",
       "      <th>GO:0031018</th>\n",
       "      <th>...</th>\n",
       "      <th>GO:0005654</th>\n",
       "      <th>GO:0005783</th>\n",
       "      <th>GO:0005739</th>\n",
       "      <th>GO:0005730</th>\n",
       "      <th>GO:0005576</th>\n",
       "      <th>GO:0005829</th>\n",
       "      <th>GO:0005886</th>\n",
       "      <th>GO:0005634</th>\n",
       "      <th>GO:0005737</th>\n",
       "      <th>GO:0016020</th>\n",
       "    </tr>\n",
       "    <tr>\n",
       "      <th>GO_Annatiation</th>\n",
       "      <th></th>\n",
       "      <th></th>\n",
       "      <th></th>\n",
       "      <th></th>\n",
       "      <th></th>\n",
       "      <th></th>\n",
       "      <th></th>\n",
       "      <th></th>\n",
       "      <th></th>\n",
       "      <th></th>\n",
       "      <th></th>\n",
       "      <th></th>\n",
       "      <th></th>\n",
       "      <th></th>\n",
       "      <th></th>\n",
       "      <th></th>\n",
       "      <th></th>\n",
       "      <th></th>\n",
       "      <th></th>\n",
       "      <th></th>\n",
       "      <th></th>\n",
       "    </tr>\n",
       "  </thead>\n",
       "  <tbody>\n",
       "    <tr>\n",
       "      <th>Q8TBF5</th>\n",
       "      <td>0</td>\n",
       "      <td>0</td>\n",
       "      <td>0</td>\n",
       "      <td>0</td>\n",
       "      <td>0</td>\n",
       "      <td>0</td>\n",
       "      <td>0</td>\n",
       "      <td>0</td>\n",
       "      <td>0</td>\n",
       "      <td>0</td>\n",
       "      <td>...</td>\n",
       "      <td>0</td>\n",
       "      <td>1</td>\n",
       "      <td>0</td>\n",
       "      <td>0</td>\n",
       "      <td>0</td>\n",
       "      <td>0</td>\n",
       "      <td>0</td>\n",
       "      <td>0</td>\n",
       "      <td>0</td>\n",
       "      <td>1</td>\n",
       "    </tr>\n",
       "    <tr>\n",
       "      <th>Q8TBF4</th>\n",
       "      <td>0</td>\n",
       "      <td>0</td>\n",
       "      <td>0</td>\n",
       "      <td>0</td>\n",
       "      <td>0</td>\n",
       "      <td>0</td>\n",
       "      <td>0</td>\n",
       "      <td>0</td>\n",
       "      <td>0</td>\n",
       "      <td>0</td>\n",
       "      <td>...</td>\n",
       "      <td>1</td>\n",
       "      <td>0</td>\n",
       "      <td>0</td>\n",
       "      <td>0</td>\n",
       "      <td>0</td>\n",
       "      <td>0</td>\n",
       "      <td>0</td>\n",
       "      <td>1</td>\n",
       "      <td>0</td>\n",
       "      <td>0</td>\n",
       "    </tr>\n",
       "    <tr>\n",
       "      <th>Q5MIZ7</th>\n",
       "      <td>0</td>\n",
       "      <td>0</td>\n",
       "      <td>0</td>\n",
       "      <td>0</td>\n",
       "      <td>0</td>\n",
       "      <td>0</td>\n",
       "      <td>0</td>\n",
       "      <td>0</td>\n",
       "      <td>0</td>\n",
       "      <td>0</td>\n",
       "      <td>...</td>\n",
       "      <td>0</td>\n",
       "      <td>0</td>\n",
       "      <td>0</td>\n",
       "      <td>1</td>\n",
       "      <td>0</td>\n",
       "      <td>0</td>\n",
       "      <td>0</td>\n",
       "      <td>1</td>\n",
       "      <td>1</td>\n",
       "      <td>0</td>\n",
       "    </tr>\n",
       "    <tr>\n",
       "      <th>P30613</th>\n",
       "      <td>0</td>\n",
       "      <td>0</td>\n",
       "      <td>0</td>\n",
       "      <td>0</td>\n",
       "      <td>0</td>\n",
       "      <td>0</td>\n",
       "      <td>1</td>\n",
       "      <td>0</td>\n",
       "      <td>0</td>\n",
       "      <td>1</td>\n",
       "      <td>...</td>\n",
       "      <td>0</td>\n",
       "      <td>0</td>\n",
       "      <td>0</td>\n",
       "      <td>0</td>\n",
       "      <td>0</td>\n",
       "      <td>1</td>\n",
       "      <td>0</td>\n",
       "      <td>0</td>\n",
       "      <td>0</td>\n",
       "      <td>0</td>\n",
       "    </tr>\n",
       "    <tr>\n",
       "      <th>Q5H9L4</th>\n",
       "      <td>0</td>\n",
       "      <td>0</td>\n",
       "      <td>0</td>\n",
       "      <td>0</td>\n",
       "      <td>0</td>\n",
       "      <td>0</td>\n",
       "      <td>0</td>\n",
       "      <td>0</td>\n",
       "      <td>0</td>\n",
       "      <td>0</td>\n",
       "      <td>...</td>\n",
       "      <td>0</td>\n",
       "      <td>0</td>\n",
       "      <td>0</td>\n",
       "      <td>0</td>\n",
       "      <td>0</td>\n",
       "      <td>0</td>\n",
       "      <td>0</td>\n",
       "      <td>1</td>\n",
       "      <td>1</td>\n",
       "      <td>0</td>\n",
       "    </tr>\n",
       "    <tr>\n",
       "      <th>...</th>\n",
       "      <td>...</td>\n",
       "      <td>...</td>\n",
       "      <td>...</td>\n",
       "      <td>...</td>\n",
       "      <td>...</td>\n",
       "      <td>...</td>\n",
       "      <td>...</td>\n",
       "      <td>...</td>\n",
       "      <td>...</td>\n",
       "      <td>...</td>\n",
       "      <td>...</td>\n",
       "      <td>...</td>\n",
       "      <td>...</td>\n",
       "      <td>...</td>\n",
       "      <td>...</td>\n",
       "      <td>...</td>\n",
       "      <td>...</td>\n",
       "      <td>...</td>\n",
       "      <td>...</td>\n",
       "      <td>...</td>\n",
       "      <td>...</td>\n",
       "    </tr>\n",
       "    <tr>\n",
       "      <th>Q8WXA9</th>\n",
       "      <td>0</td>\n",
       "      <td>0</td>\n",
       "      <td>0</td>\n",
       "      <td>0</td>\n",
       "      <td>0</td>\n",
       "      <td>0</td>\n",
       "      <td>0</td>\n",
       "      <td>0</td>\n",
       "      <td>0</td>\n",
       "      <td>0</td>\n",
       "      <td>...</td>\n",
       "      <td>0</td>\n",
       "      <td>0</td>\n",
       "      <td>1</td>\n",
       "      <td>1</td>\n",
       "      <td>0</td>\n",
       "      <td>0</td>\n",
       "      <td>0</td>\n",
       "      <td>1</td>\n",
       "      <td>0</td>\n",
       "      <td>0</td>\n",
       "    </tr>\n",
       "    <tr>\n",
       "      <th>Q8WXA8</th>\n",
       "      <td>0</td>\n",
       "      <td>0</td>\n",
       "      <td>0</td>\n",
       "      <td>0</td>\n",
       "      <td>0</td>\n",
       "      <td>0</td>\n",
       "      <td>0</td>\n",
       "      <td>0</td>\n",
       "      <td>0</td>\n",
       "      <td>0</td>\n",
       "      <td>...</td>\n",
       "      <td>0</td>\n",
       "      <td>0</td>\n",
       "      <td>0</td>\n",
       "      <td>0</td>\n",
       "      <td>0</td>\n",
       "      <td>0</td>\n",
       "      <td>1</td>\n",
       "      <td>0</td>\n",
       "      <td>0</td>\n",
       "      <td>1</td>\n",
       "    </tr>\n",
       "    <tr>\n",
       "      <th>Q6ZSZ5</th>\n",
       "      <td>0</td>\n",
       "      <td>0</td>\n",
       "      <td>0</td>\n",
       "      <td>0</td>\n",
       "      <td>0</td>\n",
       "      <td>0</td>\n",
       "      <td>0</td>\n",
       "      <td>0</td>\n",
       "      <td>0</td>\n",
       "      <td>0</td>\n",
       "      <td>...</td>\n",
       "      <td>0</td>\n",
       "      <td>0</td>\n",
       "      <td>0</td>\n",
       "      <td>0</td>\n",
       "      <td>0</td>\n",
       "      <td>1</td>\n",
       "      <td>1</td>\n",
       "      <td>0</td>\n",
       "      <td>1</td>\n",
       "      <td>0</td>\n",
       "    </tr>\n",
       "    <tr>\n",
       "      <th>Q8WXA3</th>\n",
       "      <td>0</td>\n",
       "      <td>0</td>\n",
       "      <td>0</td>\n",
       "      <td>0</td>\n",
       "      <td>0</td>\n",
       "      <td>0</td>\n",
       "      <td>0</td>\n",
       "      <td>0</td>\n",
       "      <td>0</td>\n",
       "      <td>0</td>\n",
       "      <td>...</td>\n",
       "      <td>0</td>\n",
       "      <td>0</td>\n",
       "      <td>0</td>\n",
       "      <td>1</td>\n",
       "      <td>0</td>\n",
       "      <td>0</td>\n",
       "      <td>0</td>\n",
       "      <td>1</td>\n",
       "      <td>0</td>\n",
       "      <td>0</td>\n",
       "    </tr>\n",
       "    <tr>\n",
       "      <th>Q7Z739</th>\n",
       "      <td>0</td>\n",
       "      <td>0</td>\n",
       "      <td>0</td>\n",
       "      <td>0</td>\n",
       "      <td>0</td>\n",
       "      <td>0</td>\n",
       "      <td>0</td>\n",
       "      <td>0</td>\n",
       "      <td>0</td>\n",
       "      <td>0</td>\n",
       "      <td>...</td>\n",
       "      <td>0</td>\n",
       "      <td>0</td>\n",
       "      <td>0</td>\n",
       "      <td>0</td>\n",
       "      <td>0</td>\n",
       "      <td>0</td>\n",
       "      <td>0</td>\n",
       "      <td>0</td>\n",
       "      <td>0</td>\n",
       "      <td>0</td>\n",
       "    </tr>\n",
       "  </tbody>\n",
       "</table>\n",
       "<p>13690 rows × 1050 columns</p>\n",
       "</div>"
      ],
      "text/plain": [
       "                GO:0001933  GO:0003151  GO:0007187  GO:0007611  GO:0008015  \\\n",
       "GO_Annatiation                                                               \n",
       "Q8TBF5                   0           0           0           0           0   \n",
       "Q8TBF4                   0           0           0           0           0   \n",
       "Q5MIZ7                   0           0           0           0           0   \n",
       "P30613                   0           0           0           0           0   \n",
       "Q5H9L4                   0           0           0           0           0   \n",
       "...                    ...         ...         ...         ...         ...   \n",
       "Q8WXA9                   0           0           0           0           0   \n",
       "Q8WXA8                   0           0           0           0           0   \n",
       "Q6ZSZ5                   0           0           0           0           0   \n",
       "Q8WXA3                   0           0           0           0           0   \n",
       "Q7Z739                   0           0           0           0           0   \n",
       "\n",
       "                GO:0008277  GO:0009408  GO:0030218  GO:0030855  GO:0031018  \\\n",
       "GO_Annatiation                                                               \n",
       "Q8TBF5                   0           0           0           0           0   \n",
       "Q8TBF4                   0           0           0           0           0   \n",
       "Q5MIZ7                   0           0           0           0           0   \n",
       "P30613                   0           1           0           0           1   \n",
       "Q5H9L4                   0           0           0           0           0   \n",
       "...                    ...         ...         ...         ...         ...   \n",
       "Q8WXA9                   0           0           0           0           0   \n",
       "Q8WXA8                   0           0           0           0           0   \n",
       "Q6ZSZ5                   0           0           0           0           0   \n",
       "Q8WXA3                   0           0           0           0           0   \n",
       "Q7Z739                   0           0           0           0           0   \n",
       "\n",
       "                ...  GO:0005654  GO:0005783  GO:0005739  GO:0005730  \\\n",
       "GO_Annatiation  ...                                                   \n",
       "Q8TBF5          ...           0           1           0           0   \n",
       "Q8TBF4          ...           1           0           0           0   \n",
       "Q5MIZ7          ...           0           0           0           1   \n",
       "P30613          ...           0           0           0           0   \n",
       "Q5H9L4          ...           0           0           0           0   \n",
       "...             ...         ...         ...         ...         ...   \n",
       "Q8WXA9          ...           0           0           1           1   \n",
       "Q8WXA8          ...           0           0           0           0   \n",
       "Q6ZSZ5          ...           0           0           0           0   \n",
       "Q8WXA3          ...           0           0           0           1   \n",
       "Q7Z739          ...           0           0           0           0   \n",
       "\n",
       "                GO:0005576  GO:0005829  GO:0005886  GO:0005634  GO:0005737  \\\n",
       "GO_Annatiation                                                               \n",
       "Q8TBF5                   0           0           0           0           0   \n",
       "Q8TBF4                   0           0           0           1           0   \n",
       "Q5MIZ7                   0           0           0           1           1   \n",
       "P30613                   0           1           0           0           0   \n",
       "Q5H9L4                   0           0           0           1           1   \n",
       "...                    ...         ...         ...         ...         ...   \n",
       "Q8WXA9                   0           0           0           1           0   \n",
       "Q8WXA8                   0           0           1           0           0   \n",
       "Q6ZSZ5                   0           1           1           0           1   \n",
       "Q8WXA3                   0           0           0           1           0   \n",
       "Q7Z739                   0           0           0           0           0   \n",
       "\n",
       "                GO:0016020  \n",
       "GO_Annatiation              \n",
       "Q8TBF5                   1  \n",
       "Q8TBF4                   0  \n",
       "Q5MIZ7                   0  \n",
       "P30613                   0  \n",
       "Q5H9L4                   0  \n",
       "...                    ...  \n",
       "Q8WXA9                   0  \n",
       "Q8WXA8                   1  \n",
       "Q6ZSZ5                   0  \n",
       "Q8WXA3                   0  \n",
       "Q7Z739                   0  \n",
       "\n",
       "[13690 rows x 1050 columns]"
      ]
     },
     "execution_count": 264,
     "metadata": {},
     "output_type": "execute_result"
    }
   ],
   "source": [
    "meta_df"
   ]
  },
  {
   "cell_type": "code",
   "execution_count": 204,
   "metadata": {},
   "outputs": [],
   "source": [
    "go_annotation_sums = meta_df.sum(axis=0)"
   ]
  },
  {
   "cell_type": "markdown",
   "metadata": {},
   "source": [
    "### This tells us how many proteins each GO annotation is associated with"
   ]
  },
  {
   "cell_type": "code",
   "execution_count": 265,
   "metadata": {},
   "outputs": [
    {
     "data": {
      "text/plain": [
       "GO:0001933      40\n",
       "GO:0003151      40\n",
       "GO:0007187      40\n",
       "GO:0007611      40\n",
       "GO:0008015      40\n",
       "              ... \n",
       "GO:0005886    3596\n",
       "GO:0016021    3745\n",
       "GO:0005634    4798\n",
       "GO:0005737    5142\n",
       "GO:0016020    5391\n",
       "Length: 1052, dtype: int64"
      ]
     },
     "execution_count": 265,
     "metadata": {},
     "output_type": "execute_result"
    }
   ],
   "source": [
    "go_annotation_sums"
   ]
  },
  {
   "cell_type": "code",
   "execution_count": 266,
   "metadata": {},
   "outputs": [
    {
     "data": {
      "text/plain": [
       "count    1052.000000\n",
       "mean      163.108365\n",
       "std       426.694682\n",
       "min        20.000000\n",
       "25%        41.000000\n",
       "50%        62.000000\n",
       "75%       121.000000\n",
       "max      5775.000000\n",
       "dtype: float64"
      ]
     },
     "execution_count": 266,
     "metadata": {},
     "output_type": "execute_result"
    }
   ],
   "source": [
    "go_annotation_sums.describe()"
   ]
  },
  {
   "cell_type": "markdown",
   "metadata": {},
   "source": [
    "### Most are associated with very few. The graph below is very right skewed (long right tail)"
   ]
  },
  {
   "cell_type": "code",
   "execution_count": 268,
   "metadata": {},
   "outputs": [
    {
     "data": {
      "text/plain": [
       "<Axes: >"
      ]
     },
     "execution_count": 268,
     "metadata": {},
     "output_type": "execute_result"
    },
    {
     "data": {
      "image/png": "[encoded data removed]",
      "text/plain": [
       "<Figure size 640x480 with 1 Axes>"
      ]
     },
     "metadata": {},
     "output_type": "display_data"
    }
   ],
   "source": [
    "go_annotation_sums.hist(bins=30)"
   ]
  },
  {
   "cell_type": "code",
   "execution_count": 288,
   "metadata": {},
   "outputs": [
    {
     "data": {
      "text/plain": [
       "GO:0005515    5775\n",
       "GO:0016020    5391\n",
       "GO:0005737    5142\n",
       "GO:0005634    4798\n",
       "GO:0016021    3745\n",
       "GO:0005886    3596\n",
       "GO:0046872    2597\n",
       "GO:0005829    2441\n",
       "GO:0006355    1860\n",
       "GO:0007165    1826\n",
       "GO:0006351    1757\n",
       "GO:0000166    1712\n",
       "GO:0003677    1636\n",
       "GO:0006810    1544\n",
       "GO:0005576    1533\n",
       "GO:0005730    1500\n",
       "GO:0044281    1375\n",
       "GO:0016787    1335\n",
       "GO:0005739    1313\n",
       "GO:0005524    1280\n",
       "dtype: int64"
      ]
     },
     "execution_count": 288,
     "metadata": {},
     "output_type": "execute_result"
    }
   ],
   "source": [
    "go_annotation_sums.sort_values(ascending=False).head(20)"
   ]
  },
  {
   "cell_type": "markdown",
   "metadata": {},
   "source": [
    "1) GO:0005515 protein binding\n",
    "2) GO:0016020 membrane\n",
    "3) GO:0005737 cytoplasm\n",
    "4) GO:0005634 nucleus\n",
    "5) GO:0016021 is replaced by GO:0016020 membrane see https://amigo.geneontology.org/amigo/term/GO:0016021\n",
    "6) GO:0005886 plasma membrane\n",
    "7) GO:0005829 cytosol\n",
    "8) GO:0005576 extracellular region\n",
    "9) GO:0005730 nucleolus\n",
    "10) GO:0005739 mitochondrion\n",
    "11) GO:0005887 replaced by GO:0005886 plasma membrane\n",
    "12) GO:0005783 endoplasmic reticulum\n",
    "13) GO:0005654 nucleoplasm"
   ]
  },
  {
   "cell_type": "code",
   "execution_count": 276,
   "metadata": {},
   "outputs": [],
   "source": [
    "# logical OR of column GO:0016020 and GO:0016021, result into GO:0016020\n",
    "meta_df['GO:0016020'] = meta_df['GO:0016020'] | meta_df['GO:0016021']"
   ]
  },
  {
   "cell_type": "code",
   "execution_count": 277,
   "metadata": {},
   "outputs": [],
   "source": [
    "# drop column GO:0016021\n",
    "meta_df = meta_df.drop(columns=['GO:0016021'])"
   ]
  },
  {
   "cell_type": "code",
   "execution_count": 278,
   "metadata": {},
   "outputs": [],
   "source": [
    "meta_df['GO:0005886'] = meta_df['GO:0005886'] | meta_df['GO:0005887']"
   ]
  },
  {
   "cell_type": "code",
   "execution_count": 279,
   "metadata": {},
   "outputs": [],
   "source": [
    "meta_df = meta_df.drop(columns=['GO:0005887'])"
   ]
  },
  {
   "cell_type": "code",
   "execution_count": 289,
   "metadata": {},
   "outputs": [
    {
     "data": {
      "text/plain": [
       "GO:0005515    5775\n",
       "GO:0016020    5422\n",
       "GO:0005737    5142\n",
       "GO:0005634    4798\n",
       "GO:0005886    3781\n",
       "GO:0046872    2597\n",
       "GO:0005829    2441\n",
       "GO:0006355    1860\n",
       "GO:0007165    1826\n",
       "GO:0006351    1757\n",
       "GO:0000166    1712\n",
       "GO:0003677    1636\n",
       "GO:0006810    1544\n",
       "GO:0005576    1533\n",
       "GO:0005730    1500\n",
       "dtype: int64"
      ]
     },
     "execution_count": 289,
     "metadata": {},
     "output_type": "execute_result"
    }
   ],
   "source": [
    "meta_df.sum(axis=0).sort_values(ascending=False).head(15)"
   ]
  },
  {
   "cell_type": "code",
   "execution_count": 290,
   "metadata": {},
   "outputs": [
    {
     "data": {
      "text/plain": [
       "GO:0005515    5775\n",
       "dtype: int64"
      ]
     },
     "execution_count": 290,
     "metadata": {},
     "output_type": "execute_result"
    }
   ],
   "source": [
    "meta_df.sum(axis=0).sort_values(ascending=True).tail(1)"
   ]
  },
  {
   "cell_type": "code",
   "execution_count": 291,
   "metadata": {},
   "outputs": [],
   "source": [
    "top_GO_col_names = meta_df.sum(axis=0).sort_values(ascending=False).head(1).index"
   ]
  },
  {
   "cell_type": "code",
   "execution_count": 292,
   "metadata": {},
   "outputs": [
    {
     "data": {
      "text/plain": [
       "GO:0005515    5775\n",
       "GO:0016020    5422\n",
       "GO:0005737    5142\n",
       "GO:0005634    4798\n",
       "GO:0005886    3781\n",
       "              ... \n",
       "GO:0016922      20\n",
       "GO:0030506      20\n",
       "GO:0031593      20\n",
       "GO:0042056      20\n",
       "GO:0008601      20\n",
       "Length: 1050, dtype: int64"
      ]
     },
     "execution_count": 292,
     "metadata": {},
     "output_type": "execute_result"
    }
   ],
   "source": [
    "meta_df.sum(axis=0).sort_values(ascending=False)"
   ]
  },
  {
   "cell_type": "code",
   "execution_count": 293,
   "metadata": {},
   "outputs": [
    {
     "data": {
      "text/plain": [
       "Index(['GO:0005515'], dtype='object')"
      ]
     },
     "execution_count": 293,
     "metadata": {},
     "output_type": "execute_result"
    }
   ],
   "source": [
    "top_GO_col_names"
   ]
  },
  {
   "cell_type": "code",
   "execution_count": 294,
   "metadata": {},
   "outputs": [],
   "source": [
    "protein_go_counts = meta_df.sum(axis=1)"
   ]
  },
  {
   "cell_type": "code",
   "execution_count": 295,
   "metadata": {},
   "outputs": [
    {
     "data": {
      "text/plain": [
       "GO_Annatiation\n",
       "Q8TBF5     5\n",
       "Q8TBF4    11\n",
       "Q5MIZ7     6\n",
       "P30613    23\n",
       "Q5H9L4    11\n",
       "          ..\n",
       "Q8WXA9     9\n",
       "Q8WXA8     7\n",
       "Q6ZSZ5    16\n",
       "Q8WXA3     3\n",
       "Q7Z739     1\n",
       "Length: 13690, dtype: int64"
      ]
     },
     "execution_count": 295,
     "metadata": {},
     "output_type": "execute_result"
    }
   ],
   "source": [
    "protein_go_counts"
   ]
  },
  {
   "cell_type": "markdown",
   "metadata": {},
   "source": [
    "### How many GO annotations does each protein have?\n",
    "\n",
    "Most have 0 - 20. Again very right skewed"
   ]
  },
  {
   "cell_type": "code",
   "execution_count": 217,
   "metadata": {},
   "outputs": [
    {
     "data": {
      "text/plain": [
       "<Axes: >"
      ]
     },
     "execution_count": 217,
     "metadata": {},
     "output_type": "execute_result"
    },
    {
     "data": {
      "image/png": "[encoded data removed]",
      "text/plain": [
       "<Figure size 640x480 with 1 Axes>"
      ]
     },
     "metadata": {},
     "output_type": "display_data"
    }
   ],
   "source": [
    "protein_go_counts.hist(bins=30)"
   ]
  },
  {
   "cell_type": "code",
   "execution_count": 218,
   "metadata": {},
   "outputs": [
    {
     "data": {
      "text/plain": [
       "count    13690.000000\n",
       "mean        12.200950\n",
       "std          8.389333\n",
       "min          1.000000\n",
       "25%          7.000000\n",
       "50%         10.000000\n",
       "75%         15.000000\n",
       "max        108.000000\n",
       "dtype: float64"
      ]
     },
     "execution_count": 218,
     "metadata": {},
     "output_type": "execute_result"
    }
   ],
   "source": [
    "protein_go_counts.describe()"
   ]
  },
  {
   "cell_type": "markdown",
   "metadata": {},
   "source": [
    "most between 1 and 20"
   ]
  },
  {
   "cell_type": "markdown",
   "metadata": {},
   "source": [
    "### Distribution number of top GO term that proteins have"
   ]
  },
  {
   "cell_type": "code",
   "execution_count": 298,
   "metadata": {},
   "outputs": [
    {
     "data": {
      "text/plain": [
       "<Axes: >"
      ]
     },
     "execution_count": 298,
     "metadata": {},
     "output_type": "execute_result"
    },
    {
     "data": {
      "image/png": "[encoded data removed]",
      "text/plain": [
       "<Figure size 640x480 with 1 Axes>"
      ]
     },
     "metadata": {},
     "output_type": "display_data"
    }
   ],
   "source": [
    "meta_df[top_GO_col_names].sum(axis=1).hist(bins=3)"
   ]
  },
  {
   "cell_type": "code",
   "execution_count": 299,
   "metadata": {},
   "outputs": [
    {
     "data": {
      "text/plain": [
       "0.4218407596785975"
      ]
     },
     "execution_count": 299,
     "metadata": {},
     "output_type": "execute_result"
    }
   ],
   "source": [
    "# percent of proteins with the top GO annotation\n",
    "meta_df[top_GO_col_names].sum(axis=1).mean()"
   ]
  },
  {
   "cell_type": "markdown",
   "metadata": {},
   "source": [
    "### 42 percent of proteins have the protein binding GO annotation"
   ]
  },
  {
   "cell_type": "code",
   "execution_count": 300,
   "metadata": {},
   "outputs": [],
   "source": [
    "sequence_length = df['Sequence'].apply(len)"
   ]
  },
  {
   "cell_type": "code",
   "execution_count": 301,
   "metadata": {},
   "outputs": [
    {
     "data": {
      "text/plain": [
       "0        258\n",
       "1        217\n",
       "2        849\n",
       "3        198\n",
       "4        462\n",
       "        ... \n",
       "12982    508\n",
       "12983    447\n",
       "12984    286\n",
       "12985    606\n",
       "12986    585\n",
       "Name: Sequence, Length: 12987, dtype: int64"
      ]
     },
     "execution_count": 301,
     "metadata": {},
     "output_type": "execute_result"
    }
   ],
   "source": [
    "sequence_length"
   ]
  },
  {
   "cell_type": "markdown",
   "metadata": {},
   "source": [
    "### Distribution of amino acid sequence length"
   ]
  },
  {
   "cell_type": "code",
   "execution_count": 302,
   "metadata": {},
   "outputs": [
    {
     "data": {
      "text/plain": [
       "<Axes: >"
      ]
     },
     "execution_count": 302,
     "metadata": {},
     "output_type": "execute_result"
    },
    {
     "data": {
      "image/png": "[encoded data removed]",
      "text/plain": [
       "<Figure size 640x480 with 1 Axes>"
      ]
     },
     "metadata": {},
     "output_type": "display_data"
    }
   ],
   "source": [
    "sequence_length.hist(bins=30)"
   ]
  },
  {
   "cell_type": "markdown",
   "metadata": {},
   "source": []
  },
  {
   "cell_type": "markdown",
   "metadata": {},
   "source": [
    "Log normal distribution. most are around 100 - 600 long"
   ]
  },
  {
   "cell_type": "markdown",
   "metadata": {},
   "source": [
    "# Data Prep"
   ]
  },
  {
   "cell_type": "code",
   "execution_count": 303,
   "metadata": {},
   "outputs": [],
   "source": [
    "df = pd.merge(df, meta_df[top_GO_col_names], left_on='Protein', right_index=True, how='left')"
   ]
  },
  {
   "cell_type": "code",
   "execution_count": 304,
   "metadata": {},
   "outputs": [
    {
     "data": {
      "text/html": [
       "<div>\n",
       "<style scoped>\n",
       "    .dataframe tbody tr th:only-of-type {\n",
       "        vertical-align: middle;\n",
       "    }\n",
       "\n",
       "    .dataframe tbody tr th {\n",
       "        vertical-align: top;\n",
       "    }\n",
       "\n",
       "    .dataframe thead th {\n",
       "        text-align: right;\n",
       "    }\n",
       "</style>\n",
       "<table border=\"1\" class=\"dataframe\">\n",
       "  <thead>\n",
       "    <tr style=\"text-align: right;\">\n",
       "      <th></th>\n",
       "      <th>Protein</th>\n",
       "      <th>Sequence</th>\n",
       "      <th>GO:0005515</th>\n",
       "    </tr>\n",
       "  </thead>\n",
       "  <tbody>\n",
       "    <tr>\n",
       "      <th>0</th>\n",
       "      <td>Q8TBF5</td>\n",
       "      <td>MAARVAAVRAAAWLLLGAATGLTRGPAAAFTAARSDAGIRAMCSEI...</td>\n",
       "      <td>0.0</td>\n",
       "    </tr>\n",
       "    <tr>\n",
       "      <th>1</th>\n",
       "      <td>Q8TBF4</td>\n",
       "      <td>MSGGLAPSKSTVYVSNLPFSLTNNDLYRIFSKYGKVVKVTIMKDKD...</td>\n",
       "      <td>0.0</td>\n",
       "    </tr>\n",
       "    <tr>\n",
       "      <th>2</th>\n",
       "      <td>Q5MIZ7</td>\n",
       "      <td>MSDTRRRVKVYTLNEDRQWDDRGTGHVSSTYVEELKGMSLLVRAES...</td>\n",
       "      <td>0.0</td>\n",
       "    </tr>\n",
       "    <tr>\n",
       "      <th>3</th>\n",
       "      <td>Q8TBF2</td>\n",
       "      <td>MSTVDLARVGACILKHAVTGEAVELRSLWREHACVVAGLRRFGCVV...</td>\n",
       "      <td>0.0</td>\n",
       "    </tr>\n",
       "    <tr>\n",
       "      <th>4</th>\n",
       "      <td>Q5H9L4</td>\n",
       "      <td>MECPEGQLPISSENDSTPTVSTSEVTSQQEPQILVDRGSETTYESS...</td>\n",
       "      <td>0.0</td>\n",
       "    </tr>\n",
       "    <tr>\n",
       "      <th>...</th>\n",
       "      <td>...</td>\n",
       "      <td>...</td>\n",
       "      <td>...</td>\n",
       "    </tr>\n",
       "    <tr>\n",
       "      <th>12982</th>\n",
       "      <td>Q8WXA9</td>\n",
       "      <td>MTSLMPGAGLLPIPTPNPLTTLGVSLSSLGAIPAAALDPNIATLGE...</td>\n",
       "      <td>0.0</td>\n",
       "    </tr>\n",
       "    <tr>\n",
       "      <th>12983</th>\n",
       "      <td>Q8WXA8</td>\n",
       "      <td>MEGGWPARQSALLCLTVSLLLQGRGDAFTINCSGFDQHGVDPAVFQ...</td>\n",
       "      <td>0.0</td>\n",
       "    </tr>\n",
       "    <tr>\n",
       "      <th>12984</th>\n",
       "      <td>O75323</td>\n",
       "      <td>MAARVLRARGAAWAGGLLQRAAPCSLLPRLRTWTSSSNRSREDSWL...</td>\n",
       "      <td>1.0</td>\n",
       "    </tr>\n",
       "    <tr>\n",
       "      <th>12985</th>\n",
       "      <td>Q8WXA3</td>\n",
       "      <td>MATKDPTAVERANLLNMAKLSIKGLIESALSFGRTLDSDYPPLQQF...</td>\n",
       "      <td>0.0</td>\n",
       "    </tr>\n",
       "    <tr>\n",
       "      <th>12986</th>\n",
       "      <td>Q7Z739</td>\n",
       "      <td>MSATSVDQRPKGQGNKVSVQNGSIHQKDAVNDDDFEPYLSSQTNQS...</td>\n",
       "      <td>1.0</td>\n",
       "    </tr>\n",
       "  </tbody>\n",
       "</table>\n",
       "<p>12987 rows × 3 columns</p>\n",
       "</div>"
      ],
      "text/plain": [
       "      Protein                                           Sequence  GO:0005515\n",
       "0      Q8TBF5  MAARVAAVRAAAWLLLGAATGLTRGPAAAFTAARSDAGIRAMCSEI...         0.0\n",
       "1      Q8TBF4  MSGGLAPSKSTVYVSNLPFSLTNNDLYRIFSKYGKVVKVTIMKDKD...         0.0\n",
       "2      Q5MIZ7  MSDTRRRVKVYTLNEDRQWDDRGTGHVSSTYVEELKGMSLLVRAES...         0.0\n",
       "3      Q8TBF2  MSTVDLARVGACILKHAVTGEAVELRSLWREHACVVAGLRRFGCVV...         0.0\n",
       "4      Q5H9L4  MECPEGQLPISSENDSTPTVSTSEVTSQQEPQILVDRGSETTYESS...         0.0\n",
       "...       ...                                                ...         ...\n",
       "12982  Q8WXA9  MTSLMPGAGLLPIPTPNPLTTLGVSLSSLGAIPAAALDPNIATLGE...         0.0\n",
       "12983  Q8WXA8  MEGGWPARQSALLCLTVSLLLQGRGDAFTINCSGFDQHGVDPAVFQ...         0.0\n",
       "12984  O75323  MAARVLRARGAAWAGGLLQRAAPCSLLPRLRTWTSSSNRSREDSWL...         1.0\n",
       "12985  Q8WXA3  MATKDPTAVERANLLNMAKLSIKGLIESALSFGRTLDSDYPPLQQF...         0.0\n",
       "12986  Q7Z739  MSATSVDQRPKGQGNKVSVQNGSIHQKDAVNDDDFEPYLSSQTNQS...         1.0\n",
       "\n",
       "[12987 rows x 3 columns]"
      ]
     },
     "execution_count": 304,
     "metadata": {},
     "output_type": "execute_result"
    }
   ],
   "source": [
    "df"
   ]
  },
  {
   "cell_type": "code",
   "execution_count": 305,
   "metadata": {},
   "outputs": [],
   "source": [
    "# fill NaN values with 0\n",
    "df = df.fillna(0)"
   ]
  },
  {
   "cell_type": "code",
   "execution_count": 306,
   "metadata": {},
   "outputs": [],
   "source": [
    "# filter sequences with length > 600\n",
    "df = df[df['Sequence'].apply(len) <= 800]"
   ]
  },
  {
   "cell_type": "code",
   "execution_count": 307,
   "metadata": {},
   "outputs": [],
   "source": [
    "sequence_length = df['Sequence'].apply(len)"
   ]
  },
  {
   "cell_type": "code",
   "execution_count": 308,
   "metadata": {},
   "outputs": [
    {
     "data": {
      "text/plain": [
       "<Axes: >"
      ]
     },
     "execution_count": 308,
     "metadata": {},
     "output_type": "execute_result"
    },
    {
     "data": {
      "image/png": "[encoded data removed]",
      "text/plain": [
       "<Figure size 640x480 with 1 Axes>"
      ]
     },
     "metadata": {},
     "output_type": "display_data"
    }
   ],
   "source": [
    "sequence_length.hist(bins=30)"
   ]
  },
  {
   "cell_type": "code",
   "execution_count": 309,
   "metadata": {},
   "outputs": [],
   "source": [
    "df[top_GO_col_names] = df[top_GO_col_names].astype(int)"
   ]
  },
  {
   "cell_type": "code",
   "execution_count": 310,
   "metadata": {},
   "outputs": [
    {
     "data": {
      "text/html": [
       "<div>\n",
       "<style scoped>\n",
       "    .dataframe tbody tr th:only-of-type {\n",
       "        vertical-align: middle;\n",
       "    }\n",
       "\n",
       "    .dataframe tbody tr th {\n",
       "        vertical-align: top;\n",
       "    }\n",
       "\n",
       "    .dataframe thead th {\n",
       "        text-align: right;\n",
       "    }\n",
       "</style>\n",
       "<table border=\"1\" class=\"dataframe\">\n",
       "  <thead>\n",
       "    <tr style=\"text-align: right;\">\n",
       "      <th></th>\n",
       "      <th>Protein</th>\n",
       "      <th>Sequence</th>\n",
       "      <th>GO:0005515</th>\n",
       "    </tr>\n",
       "  </thead>\n",
       "  <tbody>\n",
       "    <tr>\n",
       "      <th>0</th>\n",
       "      <td>Q8TBF5</td>\n",
       "      <td>MAARVAAVRAAAWLLLGAATGLTRGPAAAFTAARSDAGIRAMCSEI...</td>\n",
       "      <td>0</td>\n",
       "    </tr>\n",
       "    <tr>\n",
       "      <th>1</th>\n",
       "      <td>Q8TBF4</td>\n",
       "      <td>MSGGLAPSKSTVYVSNLPFSLTNNDLYRIFSKYGKVVKVTIMKDKD...</td>\n",
       "      <td>0</td>\n",
       "    </tr>\n",
       "    <tr>\n",
       "      <th>3</th>\n",
       "      <td>Q8TBF2</td>\n",
       "      <td>MSTVDLARVGACILKHAVTGEAVELRSLWREHACVVAGLRRFGCVV...</td>\n",
       "      <td>0</td>\n",
       "    </tr>\n",
       "    <tr>\n",
       "      <th>4</th>\n",
       "      <td>Q5H9L4</td>\n",
       "      <td>MECPEGQLPISSENDSTPTVSTSEVTSQQEPQILVDRGSETTYESS...</td>\n",
       "      <td>0</td>\n",
       "    </tr>\n",
       "    <tr>\n",
       "      <th>5</th>\n",
       "      <td>Q9NQ76</td>\n",
       "      <td>MRVFCVGLLLFSVTWAAPTFQPQTEKTKQSCVEEQRQEEKNKDNIG...</td>\n",
       "      <td>1</td>\n",
       "    </tr>\n",
       "    <tr>\n",
       "      <th>...</th>\n",
       "      <td>...</td>\n",
       "      <td>...</td>\n",
       "      <td>...</td>\n",
       "    </tr>\n",
       "    <tr>\n",
       "      <th>12982</th>\n",
       "      <td>Q8WXA9</td>\n",
       "      <td>MTSLMPGAGLLPIPTPNPLTTLGVSLSSLGAIPAAALDPNIATLGE...</td>\n",
       "      <td>0</td>\n",
       "    </tr>\n",
       "    <tr>\n",
       "      <th>12983</th>\n",
       "      <td>Q8WXA8</td>\n",
       "      <td>MEGGWPARQSALLCLTVSLLLQGRGDAFTINCSGFDQHGVDPAVFQ...</td>\n",
       "      <td>0</td>\n",
       "    </tr>\n",
       "    <tr>\n",
       "      <th>12984</th>\n",
       "      <td>O75323</td>\n",
       "      <td>MAARVLRARGAAWAGGLLQRAAPCSLLPRLRTWTSSSNRSREDSWL...</td>\n",
       "      <td>1</td>\n",
       "    </tr>\n",
       "    <tr>\n",
       "      <th>12985</th>\n",
       "      <td>Q8WXA3</td>\n",
       "      <td>MATKDPTAVERANLLNMAKLSIKGLIESALSFGRTLDSDYPPLQQF...</td>\n",
       "      <td>0</td>\n",
       "    </tr>\n",
       "    <tr>\n",
       "      <th>12986</th>\n",
       "      <td>Q7Z739</td>\n",
       "      <td>MSATSVDQRPKGQGNKVSVQNGSIHQKDAVNDDDFEPYLSSQTNQS...</td>\n",
       "      <td>1</td>\n",
       "    </tr>\n",
       "  </tbody>\n",
       "</table>\n",
       "<p>10866 rows × 3 columns</p>\n",
       "</div>"
      ],
      "text/plain": [
       "      Protein                                           Sequence  GO:0005515\n",
       "0      Q8TBF5  MAARVAAVRAAAWLLLGAATGLTRGPAAAFTAARSDAGIRAMCSEI...           0\n",
       "1      Q8TBF4  MSGGLAPSKSTVYVSNLPFSLTNNDLYRIFSKYGKVVKVTIMKDKD...           0\n",
       "3      Q8TBF2  MSTVDLARVGACILKHAVTGEAVELRSLWREHACVVAGLRRFGCVV...           0\n",
       "4      Q5H9L4  MECPEGQLPISSENDSTPTVSTSEVTSQQEPQILVDRGSETTYESS...           0\n",
       "5      Q9NQ76  MRVFCVGLLLFSVTWAAPTFQPQTEKTKQSCVEEQRQEEKNKDNIG...           1\n",
       "...       ...                                                ...         ...\n",
       "12982  Q8WXA9  MTSLMPGAGLLPIPTPNPLTTLGVSLSSLGAIPAAALDPNIATLGE...           0\n",
       "12983  Q8WXA8  MEGGWPARQSALLCLTVSLLLQGRGDAFTINCSGFDQHGVDPAVFQ...           0\n",
       "12984  O75323  MAARVLRARGAAWAGGLLQRAAPCSLLPRLRTWTSSSNRSREDSWL...           1\n",
       "12985  Q8WXA3  MATKDPTAVERANLLNMAKLSIKGLIESALSFGRTLDSDYPPLQQF...           0\n",
       "12986  Q7Z739  MSATSVDQRPKGQGNKVSVQNGSIHQKDAVNDDDFEPYLSSQTNQS...           1\n",
       "\n",
       "[10866 rows x 3 columns]"
      ]
     },
     "execution_count": 310,
     "metadata": {},
     "output_type": "execute_result"
    }
   ],
   "source": [
    "df"
   ]
  },
  {
   "cell_type": "markdown",
   "metadata": {},
   "source": [
    "Each letter is an amino acid. there are 22 amino acids, Can one hot encode them."
   ]
  },
  {
   "cell_type": "code",
   "execution_count": 311,
   "metadata": {},
   "outputs": [],
   "source": [
    "# Get all unique sequences characters from df['Sequence']\n",
    "unique_chars = set(''.join(df['Sequence']))"
   ]
  },
  {
   "cell_type": "code",
   "execution_count": 312,
   "metadata": {},
   "outputs": [
    {
     "data": {
      "text/plain": [
       "{'A',\n",
       " 'C',\n",
       " 'D',\n",
       " 'E',\n",
       " 'F',\n",
       " 'G',\n",
       " 'H',\n",
       " 'I',\n",
       " 'K',\n",
       " 'L',\n",
       " 'M',\n",
       " 'N',\n",
       " 'P',\n",
       " 'Q',\n",
       " 'R',\n",
       " 'S',\n",
       " 'T',\n",
       " 'U',\n",
       " 'V',\n",
       " 'W',\n",
       " 'X',\n",
       " 'Y'}"
      ]
     },
     "execution_count": 312,
     "metadata": {},
     "output_type": "execute_result"
    }
   ],
   "source": [
    "unique_chars"
   ]
  },
  {
   "cell_type": "code",
   "execution_count": 313,
   "metadata": {},
   "outputs": [],
   "source": [
    "# Create a dictionary to map unique characters to integers\n",
    "char_to_int = {char: i for i, char in enumerate(unique_chars)}"
   ]
  },
  {
   "cell_type": "code",
   "execution_count": 314,
   "metadata": {},
   "outputs": [
    {
     "data": {
      "text/plain": [
       "{'M': 0,\n",
       " 'P': 1,\n",
       " 'V': 2,\n",
       " 'U': 3,\n",
       " 'C': 4,\n",
       " 'R': 5,\n",
       " 'T': 6,\n",
       " 'Y': 7,\n",
       " 'X': 8,\n",
       " 'L': 9,\n",
       " 'F': 10,\n",
       " 'S': 11,\n",
       " 'I': 12,\n",
       " 'G': 13,\n",
       " 'N': 14,\n",
       " 'D': 15,\n",
       " 'W': 16,\n",
       " 'H': 17,\n",
       " 'A': 18,\n",
       " 'Q': 19,\n",
       " 'K': 20,\n",
       " 'E': 21}"
      ]
     },
     "execution_count": 314,
     "metadata": {},
     "output_type": "execute_result"
    }
   ],
   "source": [
    "char_to_int"
   ]
  },
  {
   "cell_type": "code",
   "execution_count": 315,
   "metadata": {},
   "outputs": [],
   "source": [
    "# function to one-hot encode a sequence\n",
    "def one_hot_encode_sequence(sequence, char_to_int, seq_length):\n",
    "    \"\"\"\n",
    "    One-hot encode a sequence using a character-to-integer mapping and a fixed sequence length\n",
    "    \"\"\"\n",
    "    # Create an array of zeros with the required sequence length and number of possible characters\n",
    "    encoding = np.zeros((seq_length, len(char_to_int)), dtype=np.int8)\n",
    "    # Iterate over the characters in the input sequence\n",
    "    for i, char in enumerate(sequence):\n",
    "        # Get the integer encoding of the character\n",
    "        char_index = char_to_int[char]\n",
    "        # Set the appropriate element of the array to 1\n",
    "        encoding[i, char_index] = 1\n",
    "    return encoding"
   ]
  },
  {
   "cell_type": "code",
   "execution_count": 316,
   "metadata": {},
   "outputs": [
    {
     "data": {
      "text/plain": [
       "array([[0, 0, 0, ..., 0, 0, 0],\n",
       "       [0, 0, 0, ..., 0, 0, 0],\n",
       "       [0, 0, 0, ..., 0, 0, 0],\n",
       "       ...,\n",
       "       [0, 0, 0, ..., 0, 0, 0],\n",
       "       [0, 0, 0, ..., 0, 0, 0],\n",
       "       [0, 0, 0, ..., 0, 0, 0]], dtype=int8)"
      ]
     },
     "execution_count": 316,
     "metadata": {},
     "output_type": "execute_result"
    }
   ],
   "source": [
    "one_hot_encode_sequence('A', char_to_int, sequence_length.max())"
   ]
  },
  {
   "cell_type": "code",
   "execution_count": 317,
   "metadata": {},
   "outputs": [
    {
     "data": {
      "text/plain": [
       "0        MAARVAAVRAAAWLLLGAATGLTRGPAAAFTAARSDAGIRAMCSEI...\n",
       "1        MSGGLAPSKSTVYVSNLPFSLTNNDLYRIFSKYGKVVKVTIMKDKD...\n",
       "3        MSTVDLARVGACILKHAVTGEAVELRSLWREHACVVAGLRRFGCVV...\n",
       "4        MECPEGQLPISSENDSTPTVSTSEVTSQQEPQILVDRGSETTYESS...\n",
       "5        MRVFCVGLLLFSVTWAAPTFQPQTEKTKQSCVEEQRQEEKNKDNIG...\n",
       "                               ...                        \n",
       "12982    MTSLMPGAGLLPIPTPNPLTTLGVSLSSLGAIPAAALDPNIATLGE...\n",
       "12983    MEGGWPARQSALLCLTVSLLLQGRGDAFTINCSGFDQHGVDPAVFQ...\n",
       "12984    MAARVLRARGAAWAGGLLQRAAPCSLLPRLRTWTSSSNRSREDSWL...\n",
       "12985    MATKDPTAVERANLLNMAKLSIKGLIESALSFGRTLDSDYPPLQQF...\n",
       "12986    MSATSVDQRPKGQGNKVSVQNGSIHQKDAVNDDDFEPYLSSQTNQS...\n",
       "Name: Sequence, Length: 10866, dtype: object"
      ]
     },
     "execution_count": 317,
     "metadata": {},
     "output_type": "execute_result"
    }
   ],
   "source": [
    "df['Sequence']"
   ]
  },
  {
   "cell_type": "code",
   "execution_count": 318,
   "metadata": {},
   "outputs": [],
   "source": [
    "# one hot encode all sequences\n",
    "seq_length = sequence_length.max()\n",
    "df['one-hot-sequence'] = df['Sequence'].apply(one_hot_encode_sequence, args=(char_to_int, seq_length))"
   ]
  },
  {
   "cell_type": "code",
   "execution_count": 320,
   "metadata": {},
   "outputs": [],
   "source": [
    "# Legacy function that we used to make integer encoding of the sequences, rather than one-hot encoding\n",
    "\n",
    "def encode_sequence(sequence, max_len):\n",
    "    \"\"\"\n",
    "    Encode a sequence of characters as a list of integers\n",
    "    \"\"\"\n",
    "    encoded = [char_to_int[char] for char in sequence]\n",
    "\n",
    "    # pad to the right with 0s\n",
    "    if len(encoded) < max_len:\n",
    "        encoded += [0] * (max_len - len(encoded))\n",
    "\n",
    "    return encoded"
   ]
  },
  {
   "cell_type": "code",
   "execution_count": 321,
   "metadata": {},
   "outputs": [],
   "source": [
    "# df['encoded-sequence-not-one-hot'] = df['Sequence'].apply(encode_sequence, args=(seq_length,))\n",
    "# df['encoded-sequence-not-one-hot']"
   ]
  },
  {
   "cell_type": "code",
   "execution_count": 322,
   "metadata": {},
   "outputs": [],
   "source": [
    "train_data, test_data = train_test_split(df, test_size=0.05, random_state=42)"
   ]
  },
  {
   "cell_type": "code",
   "execution_count": 323,
   "metadata": {},
   "outputs": [
    {
     "data": {
      "text/html": [
       "<div>\n",
       "<style scoped>\n",
       "    .dataframe tbody tr th:only-of-type {\n",
       "        vertical-align: middle;\n",
       "    }\n",
       "\n",
       "    .dataframe tbody tr th {\n",
       "        vertical-align: top;\n",
       "    }\n",
       "\n",
       "    .dataframe thead th {\n",
       "        text-align: right;\n",
       "    }\n",
       "</style>\n",
       "<table border=\"1\" class=\"dataframe\">\n",
       "  <thead>\n",
       "    <tr style=\"text-align: right;\">\n",
       "      <th></th>\n",
       "      <th>Protein</th>\n",
       "      <th>Sequence</th>\n",
       "      <th>GO:0005515</th>\n",
       "      <th>one-hot-sequence</th>\n",
       "    </tr>\n",
       "  </thead>\n",
       "  <tbody>\n",
       "    <tr>\n",
       "      <th>12375</th>\n",
       "      <td>P02533</td>\n",
       "      <td>MTTCSRQFTSSSSMKGSCGIGGGIGGGSSRISSVLAGGSCRAPSTY...</td>\n",
       "      <td>1</td>\n",
       "      <td>[[1, 0, 0, 0, 0, 0, 0, 0, 0, 0, 0, 0, 0, 0, 0,...</td>\n",
       "    </tr>\n",
       "    <tr>\n",
       "      <th>1704</th>\n",
       "      <td>Q15006</td>\n",
       "      <td>MAKVSELYDVTWEEMRDKMRKWREENSRNSEQIVEVGEELINEYAS...</td>\n",
       "      <td>0</td>\n",
       "      <td>[[1, 0, 0, 0, 0, 0, 0, 0, 0, 0, 0, 0, 0, 0, 0,...</td>\n",
       "    </tr>\n",
       "    <tr>\n",
       "      <th>8441</th>\n",
       "      <td>Q9BTX1</td>\n",
       "      <td>MATAVSRPCAGRSRDILWRVLGWRIVASIVWSVLFLPICTTVFIIF...</td>\n",
       "      <td>0</td>\n",
       "      <td>[[1, 0, 0, 0, 0, 0, 0, 0, 0, 0, 0, 0, 0, 0, 0,...</td>\n",
       "    </tr>\n",
       "    <tr>\n",
       "      <th>9340</th>\n",
       "      <td>Q8NGE0</td>\n",
       "      <td>MLRNGSIVTEFILVGFQQSSTSTRALLFALFLALYSLTMAMNGLII...</td>\n",
       "      <td>0</td>\n",
       "      <td>[[1, 0, 0, 0, 0, 0, 0, 0, 0, 0, 0, 0, 0, 0, 0,...</td>\n",
       "    </tr>\n",
       "    <tr>\n",
       "      <th>160</th>\n",
       "      <td>Q96HA8</td>\n",
       "      <td>MEGNGPAAVHYQPASPPRDACVYSSCYCEENIWKLCEYIKNHDQYP...</td>\n",
       "      <td>1</td>\n",
       "      <td>[[1, 0, 0, 0, 0, 0, 0, 0, 0, 0, 0, 0, 0, 0, 0,...</td>\n",
       "    </tr>\n",
       "    <tr>\n",
       "      <th>...</th>\n",
       "      <td>...</td>\n",
       "      <td>...</td>\n",
       "      <td>...</td>\n",
       "      <td>...</td>\n",
       "    </tr>\n",
       "    <tr>\n",
       "      <th>6825</th>\n",
       "      <td>P09038</td>\n",
       "      <td>MVGVGGGDVEDVTPRPGGCQISGRGARGCNGIPGAAAWEAALPRRR...</td>\n",
       "      <td>1</td>\n",
       "      <td>[[1, 0, 0, 0, 0, 0, 0, 0, 0, 0, 0, 0, 0, 0, 0,...</td>\n",
       "    </tr>\n",
       "    <tr>\n",
       "      <th>6184</th>\n",
       "      <td>Q9NPD3</td>\n",
       "      <td>MAGLELLSDQGYRVDGRRAGELRKIQARMGVFAQADGSAYIEQGNT...</td>\n",
       "      <td>1</td>\n",
       "      <td>[[1, 0, 0, 0, 0, 0, 0, 0, 0, 0, 0, 0, 0, 0, 0,...</td>\n",
       "    </tr>\n",
       "    <tr>\n",
       "      <th>6412</th>\n",
       "      <td>P49207</td>\n",
       "      <td>MVQRLTYRRRLSYNTASNKTRLSRTPGNRIVYLYTKKVGKAPKSAC...</td>\n",
       "      <td>0</td>\n",
       "      <td>[[1, 0, 0, 0, 0, 0, 0, 0, 0, 0, 0, 0, 0, 0, 0,...</td>\n",
       "    </tr>\n",
       "    <tr>\n",
       "      <th>1015</th>\n",
       "      <td>Q70IA6</td>\n",
       "      <td>MDWLMGKSKAKPNGKKPAAEERKAYLEPEHTKARITDFQFKELVVL...</td>\n",
       "      <td>0</td>\n",
       "      <td>[[1, 0, 0, 0, 0, 0, 0, 0, 0, 0, 0, 0, 0, 0, 0,...</td>\n",
       "    </tr>\n",
       "    <tr>\n",
       "      <th>8693</th>\n",
       "      <td>Q643R3</td>\n",
       "      <td>MSQGSPGDWAPLDPTPGPPASPNPFVHELHLSRLQRVKFCLLGALL...</td>\n",
       "      <td>0</td>\n",
       "      <td>[[1, 0, 0, 0, 0, 0, 0, 0, 0, 0, 0, 0, 0, 0, 0,...</td>\n",
       "    </tr>\n",
       "  </tbody>\n",
       "</table>\n",
       "<p>10322 rows × 4 columns</p>\n",
       "</div>"
      ],
      "text/plain": [
       "      Protein                                           Sequence  GO:0005515  \\\n",
       "12375  P02533  MTTCSRQFTSSSSMKGSCGIGGGIGGGSSRISSVLAGGSCRAPSTY...           1   \n",
       "1704   Q15006  MAKVSELYDVTWEEMRDKMRKWREENSRNSEQIVEVGEELINEYAS...           0   \n",
       "8441   Q9BTX1  MATAVSRPCAGRSRDILWRVLGWRIVASIVWSVLFLPICTTVFIIF...           0   \n",
       "9340   Q8NGE0  MLRNGSIVTEFILVGFQQSSTSTRALLFALFLALYSLTMAMNGLII...           0   \n",
       "160    Q96HA8  MEGNGPAAVHYQPASPPRDACVYSSCYCEENIWKLCEYIKNHDQYP...           1   \n",
       "...       ...                                                ...         ...   \n",
       "6825   P09038  MVGVGGGDVEDVTPRPGGCQISGRGARGCNGIPGAAAWEAALPRRR...           1   \n",
       "6184   Q9NPD3  MAGLELLSDQGYRVDGRRAGELRKIQARMGVFAQADGSAYIEQGNT...           1   \n",
       "6412   P49207  MVQRLTYRRRLSYNTASNKTRLSRTPGNRIVYLYTKKVGKAPKSAC...           0   \n",
       "1015   Q70IA6  MDWLMGKSKAKPNGKKPAAEERKAYLEPEHTKARITDFQFKELVVL...           0   \n",
       "8693   Q643R3  MSQGSPGDWAPLDPTPGPPASPNPFVHELHLSRLQRVKFCLLGALL...           0   \n",
       "\n",
       "                                        one-hot-sequence  \n",
       "12375  [[1, 0, 0, 0, 0, 0, 0, 0, 0, 0, 0, 0, 0, 0, 0,...  \n",
       "1704   [[1, 0, 0, 0, 0, 0, 0, 0, 0, 0, 0, 0, 0, 0, 0,...  \n",
       "8441   [[1, 0, 0, 0, 0, 0, 0, 0, 0, 0, 0, 0, 0, 0, 0,...  \n",
       "9340   [[1, 0, 0, 0, 0, 0, 0, 0, 0, 0, 0, 0, 0, 0, 0,...  \n",
       "160    [[1, 0, 0, 0, 0, 0, 0, 0, 0, 0, 0, 0, 0, 0, 0,...  \n",
       "...                                                  ...  \n",
       "6825   [[1, 0, 0, 0, 0, 0, 0, 0, 0, 0, 0, 0, 0, 0, 0,...  \n",
       "6184   [[1, 0, 0, 0, 0, 0, 0, 0, 0, 0, 0, 0, 0, 0, 0,...  \n",
       "6412   [[1, 0, 0, 0, 0, 0, 0, 0, 0, 0, 0, 0, 0, 0, 0,...  \n",
       "1015   [[1, 0, 0, 0, 0, 0, 0, 0, 0, 0, 0, 0, 0, 0, 0,...  \n",
       "8693   [[1, 0, 0, 0, 0, 0, 0, 0, 0, 0, 0, 0, 0, 0, 0,...  \n",
       "\n",
       "[10322 rows x 4 columns]"
      ]
     },
     "execution_count": 323,
     "metadata": {},
     "output_type": "execute_result"
    }
   ],
   "source": [
    "train_data"
   ]
  },
  {
   "cell_type": "markdown",
   "metadata": {},
   "source": [
    "# Train"
   ]
  },
  {
   "cell_type": "code",
   "execution_count": 324,
   "metadata": {},
   "outputs": [],
   "source": [
    "vocab_size = len(char_to_int)\n",
    "input_length = sequence_length.max()"
   ]
  },
  {
   "cell_type": "code",
   "execution_count": 325,
   "metadata": {},
   "outputs": [
    {
     "data": {
      "text/plain": [
       "800"
      ]
     },
     "execution_count": 325,
     "metadata": {},
     "output_type": "execute_result"
    }
   ],
   "source": [
    "# input length is the length of the longest sequence\n",
    "input_length"
   ]
  },
  {
   "cell_type": "code",
   "execution_count": 326,
   "metadata": {},
   "outputs": [],
   "source": [
    "from tensorflow.keras.models import Sequential\n",
    "from tensorflow.keras.layers import Conv1D, MaxPooling1D, Flatten, Dense, Embedding\n",
    "\n",
    "model = Sequential()\n",
    "model.add(Conv1D(filters=64, kernel_size=60, activation='relu', input_shape=(input_length, vocab_size)))\n",
    "model.add(MaxPooling1D(pool_size=2))\n",
    "model.add(Flatten())\n",
    "model.add(Dense(50, activation='relu'))\n",
    "# Adjust the final layer and activation according to your specific problem\n",
    "model.add(Dense(len(top_GO_col_names), activation='sigmoid'))\n",
    "\n",
    "model.compile(optimizer='adam', loss='binary_crossentropy', metrics=['accuracy'])"
   ]
  },
  {
   "cell_type": "code",
   "execution_count": 327,
   "metadata": {},
   "outputs": [
    {
     "name": "stdout",
     "output_type": "stream",
     "text": [
      "Model: \"sequential_6\"\n",
      "_________________________________________________________________\n",
      " Layer (type)                Output Shape              Param #   \n",
      "=================================================================\n",
      " conv1d_6 (Conv1D)           (None, 741, 64)           84544     \n",
      "                                                                 \n",
      " max_pooling1d_6 (MaxPoolin  (None, 370, 64)           0         \n",
      " g1D)                                                            \n",
      "                                                                 \n",
      " flatten_6 (Flatten)         (None, 23680)             0         \n",
      "                                                                 \n",
      " dense_12 (Dense)            (None, 50)                1184050   \n",
      "                                                                 \n",
      " dense_13 (Dense)            (None, 1)                 51        \n",
      "                                                                 \n",
      "=================================================================\n",
      "Total params: 1268645 (4.84 MB)\n",
      "Trainable params: 1268645 (4.84 MB)\n",
      "Non-trainable params: 0 (0.00 Byte)\n",
      "_________________________________________________________________\n"
     ]
    }
   ],
   "source": [
    "model.summary()"
   ]
  },
  {
   "cell_type": "code",
   "execution_count": 250,
   "metadata": {},
   "outputs": [],
   "source": [
    "log_dir = \"logs/fit/\" + datetime.datetime.now().strftime(\"%Y%m%d-%H%M%S\")\n",
    "tensorboard_callback = tf.keras.callbacks.TensorBoard(log_dir=log_dir, histogram_freq=1)"
   ]
  },
  {
   "cell_type": "code",
   "execution_count": 88,
   "metadata": {},
   "outputs": [
    {
     "name": "stdout",
     "output_type": "stream",
     "text": [
      "Epoch 1/12\n"
     ]
    },
    {
     "name": "stderr",
     "output_type": "stream",
     "text": [
      "2024-03-26 09:11:50.864028: I tensorflow/core/grappler/optimizers/custom_graph_optimizer_registry.cc:117] Plugin optimizer for device_type GPU is enabled.\n"
     ]
    },
    {
     "name": "stdout",
     "output_type": "stream",
     "text": [
      "179/179 [==============================] - 4s 19ms/step - loss: 0.5635 - accuracy: 0.4379\n",
      "Epoch 2/12\n",
      "179/179 [==============================] - 3s 16ms/step - loss: 0.4819 - accuracy: 0.4982\n",
      "Epoch 3/12\n",
      "179/179 [==============================] - 3s 16ms/step - loss: 0.3894 - accuracy: 0.5755\n",
      "Epoch 4/12\n",
      "179/179 [==============================] - 3s 16ms/step - loss: 0.2703 - accuracy: 0.6279\n",
      "Epoch 5/12\n",
      "179/179 [==============================] - 3s 16ms/step - loss: 0.1709 - accuracy: 0.6597\n",
      "Epoch 6/12\n",
      "179/179 [==============================] - 3s 16ms/step - loss: 0.1082 - accuracy: 0.6706\n",
      "Epoch 7/12\n",
      "179/179 [==============================] - 3s 17ms/step - loss: 0.0643 - accuracy: 0.6739\n",
      "Epoch 8/12\n",
      "179/179 [==============================] - 3s 16ms/step - loss: 0.0352 - accuracy: 0.6687\n",
      "Epoch 9/12\n",
      "179/179 [==============================] - 3s 16ms/step - loss: 0.0200 - accuracy: 0.6595\n",
      "Epoch 10/12\n",
      "179/179 [==============================] - 3s 15ms/step - loss: 0.0129 - accuracy: 0.6597\n",
      "Epoch 11/12\n",
      "179/179 [==============================] - 3s 16ms/step - loss: 0.0072 - accuracy: 0.6625\n",
      "Epoch 12/12\n",
      "179/179 [==============================] - 3s 16ms/step - loss: 0.0056 - accuracy: 0.6571\n"
     ]
    }
   ],
   "source": [
    "# Train the model # 60 kernel 400 length\n",
    "history = model.fit(np.stack(train_data['one-hot-sequence']), train_data[top_GO_col_names], epochs=12, batch_size=32, callbacks=[tensorboard_callback])"
   ]
  },
  {
   "cell_type": "code",
   "execution_count": 92,
   "metadata": {},
   "outputs": [
    {
     "name": "stdout",
     "output_type": "stream",
     "text": [
      "Epoch 1/12\n",
      "179/179 [==============================] - 4s 23ms/step - loss: 0.0021 - accuracy: 0.6254\n",
      "Epoch 2/12\n",
      "179/179 [==============================] - 4s 24ms/step - loss: 0.0019 - accuracy: 0.6212\n",
      "Epoch 3/12\n",
      "179/179 [==============================] - 4s 24ms/step - loss: 0.0015 - accuracy: 0.6324\n",
      "Epoch 4/12\n",
      "179/179 [==============================] - 4s 22ms/step - loss: 0.0015 - accuracy: 0.6151\n",
      "Epoch 5/12\n",
      "179/179 [==============================] - 4s 22ms/step - loss: 5.6373e-04 - accuracy: 0.6368\n",
      "Epoch 6/12\n",
      "179/179 [==============================] - 4s 22ms/step - loss: 4.1690e-04 - accuracy: 0.6280\n",
      "Epoch 7/12\n",
      "179/179 [==============================] - 4s 22ms/step - loss: 3.4672e-04 - accuracy: 0.6245\n",
      "Epoch 8/12\n",
      "179/179 [==============================] - 4s 22ms/step - loss: 2.9408e-04 - accuracy: 0.6251\n",
      "Epoch 9/12\n",
      "179/179 [==============================] - 4s 24ms/step - loss: 2.5182e-04 - accuracy: 0.6212\n",
      "Epoch 10/12\n",
      "179/179 [==============================] - 4s 23ms/step - loss: 2.1743e-04 - accuracy: 0.6231\n",
      "Epoch 11/12\n",
      "179/179 [==============================] - 4s 23ms/step - loss: 1.8863e-04 - accuracy: 0.6226\n",
      "Epoch 12/12\n",
      "179/179 [==============================] - 4s 23ms/step - loss: 1.6450e-04 - accuracy: 0.6209\n"
     ]
    }
   ],
   "source": [
    "# Train the model # 400 len, 100 kernel size 100 filters\n",
    "history = model.fit(np.stack(train_data['one-hot-sequence']), train_data[top_GO_col_names], epochs=12, batch_size=32, callbacks=[tensorboard_callback])"
   ]
  },
  {
   "cell_type": "code",
   "execution_count": 112,
   "metadata": {},
   "outputs": [
    {
     "name": "stdout",
     "output_type": "stream",
     "text": [
      "Epoch 1/18\n",
      "107/107 [==============================] - 2s 14ms/step - loss: 0.0153 - accuracy: 0.5954\n",
      "Epoch 2/18\n",
      "107/107 [==============================] - 2s 14ms/step - loss: 0.0110 - accuracy: 0.6019\n",
      "Epoch 3/18\n",
      "107/107 [==============================] - 2s 15ms/step - loss: 0.0094 - accuracy: 0.6063\n",
      "Epoch 4/18\n",
      "107/107 [==============================] - 2s 15ms/step - loss: 0.0071 - accuracy: 0.5892\n",
      "Epoch 5/18\n",
      "107/107 [==============================] - 2s 15ms/step - loss: 0.0065 - accuracy: 0.5942\n",
      "Epoch 6/18\n",
      "107/107 [==============================] - 2s 15ms/step - loss: 0.0062 - accuracy: 0.5857\n",
      "Epoch 7/18\n",
      "107/107 [==============================] - 2s 15ms/step - loss: 0.0052 - accuracy: 0.5957\n",
      "Epoch 8/18\n",
      "107/107 [==============================] - 2s 15ms/step - loss: 0.0037 - accuracy: 0.5939\n",
      "Epoch 9/18\n",
      "107/107 [==============================] - 2s 15ms/step - loss: 0.0027 - accuracy: 0.5957\n",
      "Epoch 10/18\n",
      "107/107 [==============================] - 2s 15ms/step - loss: 0.0028 - accuracy: 0.5942\n",
      "Epoch 11/18\n",
      "107/107 [==============================] - 2s 15ms/step - loss: 0.0016 - accuracy: 0.6019\n",
      "Epoch 12/18\n",
      "107/107 [==============================] - 2s 15ms/step - loss: 0.0014 - accuracy: 0.6001\n",
      "Epoch 13/18\n",
      "107/107 [==============================] - 2s 14ms/step - loss: 0.0012 - accuracy: 0.5995\n",
      "Epoch 14/18\n",
      "107/107 [==============================] - 2s 15ms/step - loss: 0.0011 - accuracy: 0.5969\n",
      "Epoch 15/18\n",
      "107/107 [==============================] - 2s 14ms/step - loss: 9.9169e-04 - accuracy: 0.6010\n",
      "Epoch 16/18\n",
      "107/107 [==============================] - 2s 14ms/step - loss: 0.0010 - accuracy: 0.5972\n",
      "Epoch 17/18\n",
      "107/107 [==============================] - 2s 15ms/step - loss: 0.0019 - accuracy: 0.5928\n",
      "Epoch 18/18\n",
      "107/107 [==============================] - 2s 15ms/step - loss: 0.0019 - accuracy: 0.5957\n"
     ]
    }
   ],
   "source": [
    "# Train the model # 300 len, 60 kernel size 64 filters\n",
    "history = model.fit(np.stack(train_data['one-hot-sequence']), train_data[top_GO_col_names], epochs=18, batch_size=32, callbacks=[tensorboard_callback])"
   ]
  },
  {
   "cell_type": "markdown",
   "metadata": {},
   "source": [
    "Simplifying the problem and trying to make the model larger and still not getting better performance. What this tells us is that there could be an issue with the data. Will look into eliminating possible repeats within the Excel files"
   ]
  },
  {
   "cell_type": "code",
   "execution_count": 156,
   "metadata": {},
   "outputs": [
    {
     "name": "stdout",
     "output_type": "stream",
     "text": [
      "Epoch 1/18\n",
      "107/107 [==============================] - 3s 18ms/step - loss: 0.6718 - accuracy: 0.6181\n",
      "Epoch 2/18\n",
      "107/107 [==============================] - 2s 15ms/step - loss: 0.5991 - accuracy: 0.6613\n",
      "Epoch 3/18\n",
      "107/107 [==============================] - 2s 14ms/step - loss: 0.3466 - accuracy: 0.8659\n",
      "Epoch 4/18\n",
      "107/107 [==============================] - 1s 14ms/step - loss: 0.0791 - accuracy: 0.9838\n",
      "Epoch 5/18\n",
      "107/107 [==============================] - 2s 14ms/step - loss: 0.0459 - accuracy: 0.9950\n",
      "Epoch 6/18\n",
      "107/107 [==============================] - 2s 14ms/step - loss: 0.0247 - accuracy: 0.9968\n",
      "Epoch 7/18\n",
      "107/107 [==============================] - 2s 15ms/step - loss: 0.0094 - accuracy: 0.9985\n",
      "Epoch 8/18\n",
      "107/107 [==============================] - 2s 14ms/step - loss: 0.0096 - accuracy: 0.9988\n",
      "Epoch 9/18\n",
      "107/107 [==============================] - 1s 14ms/step - loss: 0.0048 - accuracy: 0.9991\n",
      "Epoch 10/18\n",
      "107/107 [==============================] - 2s 14ms/step - loss: 0.0199 - accuracy: 0.9994\n",
      "Epoch 11/18\n",
      "107/107 [==============================] - 2s 15ms/step - loss: 0.0122 - accuracy: 0.9997\n",
      "Epoch 12/18\n",
      "107/107 [==============================] - 1s 14ms/step - loss: 0.0104 - accuracy: 0.9997\n",
      "Epoch 13/18\n",
      "107/107 [==============================] - 2s 14ms/step - loss: 0.0084 - accuracy: 0.9997\n",
      "Epoch 14/18\n",
      "107/107 [==============================] - 2s 14ms/step - loss: 0.0068 - accuracy: 0.9997\n",
      "Epoch 15/18\n",
      "107/107 [==============================] - 2s 14ms/step - loss: 0.0049 - accuracy: 0.9997\n",
      "Epoch 16/18\n",
      "107/107 [==============================] - 1s 14ms/step - loss: 0.0037 - accuracy: 0.9997\n",
      "Epoch 17/18\n",
      "107/107 [==============================] - 1s 14ms/step - loss: 0.0038 - accuracy: 0.9997\n",
      "Epoch 18/18\n",
      "107/107 [==============================] - 2s 15ms/step - loss: 0.0037 - accuracy: 0.9997\n"
     ]
    }
   ],
   "source": [
    "# Train the model # 300 len, 60 kernel size 64 filters, predicting 1 GO term\n",
    "history = model.fit(np.stack(train_data['one-hot-sequence']), train_data[top_GO_col_names], epochs=18, batch_size=32, callbacks=[tensorboard_callback])"
   ]
  },
  {
   "cell_type": "code",
   "execution_count": 189,
   "metadata": {},
   "outputs": [
    {
     "name": "stdout",
     "output_type": "stream",
     "text": [
      "Epoch 1/18\n",
      "272/272 [==============================] - 6s 19ms/step - loss: 0.7339 - accuracy: 0.5804\n",
      "Epoch 2/18\n",
      "272/272 [==============================] - 5s 18ms/step - loss: 0.6690 - accuracy: 0.6263\n",
      "Epoch 3/18\n",
      "272/272 [==============================] - 5s 18ms/step - loss: 0.7008 - accuracy: 0.6270\n",
      "Epoch 4/18\n",
      "272/272 [==============================] - 5s 18ms/step - loss: 0.6192 - accuracy: 0.6588\n",
      "Epoch 5/18\n",
      "272/272 [==============================] - 5s 19ms/step - loss: 0.7483 - accuracy: 0.6107\n",
      "Epoch 6/18\n",
      "272/272 [==============================] - 5s 18ms/step - loss: 0.5923 - accuracy: 0.6791\n",
      "Epoch 7/18\n",
      "272/272 [==============================] - 5s 18ms/step - loss: 0.5650 - accuracy: 0.7017\n",
      "Epoch 8/18\n",
      "272/272 [==============================] - 5s 18ms/step - loss: 0.5059 - accuracy: 0.7512\n",
      "Epoch 9/18\n",
      "272/272 [==============================] - 5s 18ms/step - loss: 0.4311 - accuracy: 0.8107\n",
      "Epoch 10/18\n",
      "272/272 [==============================] - 5s 19ms/step - loss: 0.3511 - accuracy: 0.8633\n",
      "Epoch 11/18\n",
      "272/272 [==============================] - 5s 18ms/step - loss: 0.2655 - accuracy: 0.9125\n",
      "Epoch 12/18\n",
      "272/272 [==============================] - 5s 18ms/step - loss: 0.1857 - accuracy: 0.9505\n",
      "Epoch 13/18\n",
      "272/272 [==============================] - 5s 18ms/step - loss: 0.1222 - accuracy: 0.9795\n",
      "Epoch 14/18\n",
      "272/272 [==============================] - 5s 18ms/step - loss: 0.0761 - accuracy: 0.9914\n",
      "Epoch 15/18\n",
      "272/272 [==============================] - 5s 19ms/step - loss: 0.0497 - accuracy: 0.9948\n",
      "Epoch 16/18\n",
      "272/272 [==============================] - 5s 18ms/step - loss: 0.0358 - accuracy: 0.9962\n",
      "Epoch 17/18\n",
      "272/272 [==============================] - 5s 19ms/step - loss: 0.0271 - accuracy: 0.9972\n",
      "Epoch 18/18\n",
      "272/272 [==============================] - 5s 18ms/step - loss: 0.0218 - accuracy: 0.9977\n"
     ]
    }
   ],
   "source": [
    "# Train the model # 600 len, 60 kernel size 64 filters, predicting 1 GO term\n",
    "history = model.fit(np.stack(train_data['one-hot-sequence']), train_data[top_GO_col_names], epochs=18, batch_size=32, callbacks=[tensorboard_callback])"
   ]
  },
  {
   "cell_type": "code",
   "execution_count": 251,
   "metadata": {},
   "outputs": [
    {
     "name": "stdout",
     "output_type": "stream",
     "text": [
      "Epoch 1/18\n",
      "323/323 [==============================] - 7s 21ms/step - loss: 0.6498 - accuracy: 0.6089\n",
      "Epoch 2/18\n",
      "323/323 [==============================] - 7s 20ms/step - loss: 0.5932 - accuracy: 0.6676\n",
      "Epoch 3/18\n",
      "323/323 [==============================] - 7s 21ms/step - loss: 0.4049 - accuracy: 0.8166\n",
      "Epoch 4/18\n",
      "323/323 [==============================] - 7s 21ms/step - loss: 0.0969 - accuracy: 0.9704\n",
      "Epoch 5/18\n",
      "323/323 [==============================] - 7s 21ms/step - loss: 0.0410 - accuracy: 0.9926\n",
      "Epoch 6/18\n",
      "323/323 [==============================] - 7s 21ms/step - loss: 0.0118 - accuracy: 0.9986\n",
      "Epoch 7/18\n",
      "323/323 [==============================] - 7s 21ms/step - loss: 0.0086 - accuracy: 0.9988\n",
      "Epoch 8/18\n",
      "323/323 [==============================] - 7s 21ms/step - loss: 0.0058 - accuracy: 0.9996\n",
      "Epoch 9/18\n",
      "323/323 [==============================] - 7s 21ms/step - loss: 6.2554e-04 - accuracy: 1.0000\n",
      "Epoch 10/18\n",
      "323/323 [==============================] - 7s 20ms/step - loss: 6.3201e-04 - accuracy: 0.9999\n",
      "Epoch 11/18\n",
      "323/323 [==============================] - 6s 20ms/step - loss: 0.0012 - accuracy: 0.9999\n",
      "Epoch 12/18\n",
      "323/323 [==============================] - 6s 20ms/step - loss: 5.5328e-04 - accuracy: 0.9999\n",
      "Epoch 13/18\n",
      "323/323 [==============================] - 6s 20ms/step - loss: 1.4287e-04 - accuracy: 1.0000\n",
      "Epoch 14/18\n",
      "323/323 [==============================] - 6s 20ms/step - loss: 1.0495e-04 - accuracy: 1.0000\n",
      "Epoch 15/18\n",
      "323/323 [==============================] - 6s 20ms/step - loss: 7.9762e-05 - accuracy: 1.0000\n",
      "Epoch 16/18\n",
      "323/323 [==============================] - 7s 21ms/step - loss: 6.2033e-05 - accuracy: 1.0000\n",
      "Epoch 17/18\n",
      "323/323 [==============================] - 7s 21ms/step - loss: 4.9045e-05 - accuracy: 1.0000\n",
      "Epoch 18/18\n",
      "323/323 [==============================] - 7s 21ms/step - loss: 3.9231e-05 - accuracy: 1.0000\n"
     ]
    }
   ],
   "source": [
    "# Train the model # 800 len, 60 kernel size 64 filters, predicting 1 GO term\n",
    "history = model.fit(np.stack(train_data['one-hot-sequence']), train_data[top_GO_col_names], epochs=18, batch_size=32, callbacks=[tensorboard_callback])"
   ]
  },
  {
   "cell_type": "code",
   "execution_count": null,
   "metadata": {},
   "outputs": [],
   "source": []
  },
  {
   "cell_type": "markdown",
   "metadata": {},
   "source": [
    "Did not really see an improvement by adding another convolution layer. This is likely because the conv layer cannot capture global relationships that the animo acid sequences have"
   ]
  },
  {
   "cell_type": "markdown",
   "metadata": {},
   "source": [
    "# Evaluate"
   ]
  },
  {
   "cell_type": "code",
   "execution_count": 190,
   "metadata": {},
   "outputs": [],
   "source": [
    "# import metrics\n",
    "from tensorflow.keras.metrics import Precision, Recall"
   ]
  },
  {
   "cell_type": "code",
   "execution_count": 252,
   "metadata": {},
   "outputs": [
    {
     "name": "stdout",
     "output_type": "stream",
     "text": [
      "17/17 [==============================] - 0s 11ms/step - loss: 2.2992 - accuracy: 0.5993\n"
     ]
    }
   ],
   "source": [
    "# test the model\n",
    "results = model.evaluate(np.stack(test_data['one-hot-sequence']), test_data[top_GO_col_names], verbose=1)"
   ]
  },
  {
   "cell_type": "code",
   "execution_count": 253,
   "metadata": {},
   "outputs": [
    {
     "name": "stdout",
     "output_type": "stream",
     "text": [
      "Test loss: 2.2991693019866943, Test accuracy: 0.5992646813392639\n"
     ]
    }
   ],
   "source": [
    "print(f'Test loss: {results[0]}, Test accuracy: {results[1]}')"
   ]
  },
  {
   "cell_type": "code",
   "execution_count": 254,
   "metadata": {},
   "outputs": [
    {
     "name": "stdout",
     "output_type": "stream",
     "text": [
      "17/17 [==============================] - 0s 12ms/step\n"
     ]
    }
   ],
   "source": [
    "preds = model.predict(np.stack(test_data['one-hot-sequence']))\n",
    "gt = test_data[top_GO_col_names]"
   ]
  },
  {
   "cell_type": "code",
   "execution_count": 255,
   "metadata": {},
   "outputs": [],
   "source": [
    "# calculate precision, recall, and F1 score\n",
    "precision = Precision()\n",
    "precision.update_state(gt, preds)\n",
    "precision_result = precision.result().numpy()"
   ]
  },
  {
   "cell_type": "code",
   "execution_count": 256,
   "metadata": {},
   "outputs": [
    {
     "data": {
      "text/plain": [
       "0.52910054"
      ]
     },
     "execution_count": 256,
     "metadata": {},
     "output_type": "execute_result"
    }
   ],
   "source": [
    "precision_result"
   ]
  },
  {
   "cell_type": "code",
   "execution_count": 257,
   "metadata": {},
   "outputs": [],
   "source": [
    "recall = Recall()\n",
    "recall.update_state(gt, preds)\n",
    "recall_result = recall.result().numpy()"
   ]
  },
  {
   "cell_type": "code",
   "execution_count": 258,
   "metadata": {},
   "outputs": [
    {
     "data": {
      "text/plain": [
       "0.43668124"
      ]
     },
     "execution_count": 258,
     "metadata": {},
     "output_type": "execute_result"
    }
   ],
   "source": [
    "recall_result"
   ]
  },
  {
   "cell_type": "code",
   "execution_count": 58,
   "metadata": {},
   "outputs": [],
   "source": [
    "# function to predict GO terms for a given sequence\n",
    "def predict_GO_terms(sequence, model, char_to_int, seq_length):\n",
    "    \"\"\"\n",
    "    Predict GO terms for a given sequence using a trained model\n",
    "    \"\"\"\n",
    "    # One-hot encode the sequence\n",
    "    one_hot_sequence = one_hot_encode_sequence(sequence, char_to_int, seq_length)\n",
    "    # Add an extra dimension to the sequence to match the input shape of the model\n",
    "    one_hot_sequence = np.expand_dims(one_hot_sequence, axis=0)\n",
    "    # Use the model to predict the GO terms\n",
    "    predictions = model.predict(one_hot_sequence)\n",
    "    return predictions"
   ]
  },
  {
   "cell_type": "code",
   "execution_count": 199,
   "metadata": {},
   "outputs": [
    {
     "ename": "NameError",
     "evalue": "name 'predict_GO_terms' is not defined",
     "output_type": "error",
     "traceback": [
      "\u001b[0;31m---------------------------------------------------------------------------\u001b[0m",
      "\u001b[0;31mNameError\u001b[0m                                 Traceback (most recent call last)",
      "Cell \u001b[0;32mIn[199], line 1\u001b[0m\n\u001b[0;32m----> 1\u001b[0m ret \u001b[38;5;241m=\u001b[39m \u001b[43mpredict_GO_terms\u001b[49m(\u001b[38;5;124m'\u001b[39m\u001b[38;5;124mA\u001b[39m\u001b[38;5;124m'\u001b[39m, model, char_to_int, sequence_length\u001b[38;5;241m.\u001b[39mmax())\n",
      "\u001b[0;31mNameError\u001b[0m: name 'predict_GO_terms' is not defined"
     ]
    }
   ],
   "source": [
    "ret = predict_GO_terms('A', model, char_to_int, sequence_length.max())"
   ]
  },
  {
   "cell_type": "code",
   "execution_count": 200,
   "metadata": {},
   "outputs": [
    {
     "ename": "NameError",
     "evalue": "name 'ret' is not defined",
     "output_type": "error",
     "traceback": [
      "\u001b[0;31m---------------------------------------------------------------------------\u001b[0m",
      "\u001b[0;31mNameError\u001b[0m                                 Traceback (most recent call last)",
      "Cell \u001b[0;32mIn[200], line 1\u001b[0m\n\u001b[0;32m----> 1\u001b[0m \u001b[43mret\u001b[49m\n",
      "\u001b[0;31mNameError\u001b[0m: name 'ret' is not defined"
     ]
    }
   ],
   "source": [
    "ret"
   ]
  },
  {
   "cell_type": "markdown",
   "metadata": {},
   "source": [
    "Each one of the 10 floats is the probability that the sequence has the cooresponding GO annotation."
   ]
  },
  {
   "cell_type": "code",
   "execution_count": 61,
   "metadata": {},
   "outputs": [
    {
     "data": {
      "text/plain": [
       "(1, 10)"
      ]
     },
     "execution_count": 61,
     "metadata": {},
     "output_type": "execute_result"
    }
   ],
   "source": [
    "ret.shape"
   ]
  },
  {
   "cell_type": "code",
   "execution_count": 62,
   "metadata": {},
   "outputs": [
    {
     "data": {
      "text/plain": [
       "Index(['GO:0005515', 'GO:0016020', 'GO:0005737', 'GO:0005634', 'GO:0005886',\n",
       "       'GO:0046872', 'GO:0005829', 'GO:0006355', 'GO:0007165', 'GO:0006351'],\n",
       "      dtype='object')"
      ]
     },
     "execution_count": 62,
     "metadata": {},
     "output_type": "execute_result"
    }
   ],
   "source": [
    "top_GO_col_names"
   ]
  },
  {
   "cell_type": "code",
   "execution_count": null,
   "metadata": {},
   "outputs": [],
   "source": []
  }
 ],
 "metadata": {
  "kernelspec": {
   "display_name": "python_env",
   "language": "python",
   "name": "python3"
  },
  "language_info": {
   "codemirror_mode": {
    "name": "ipython",
    "version": 3
   },
   "file_extension": ".py",
   "mimetype": "text/x-python",
   "name": "python",
   "nbconvert_exporter": "python",
   "pygments_lexer": "ipython3",
   "version": "3.11.8"
  },
  "orig_nbformat": 4
 },
 "nbformat": 4,
 "nbformat_minor": 2
}
